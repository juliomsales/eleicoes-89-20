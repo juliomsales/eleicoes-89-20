{
 "cells": [
  {
   "cell_type": "markdown",
   "metadata": {},
   "source": [
    "Dados extraídos de: https://www.tse.jus.br/eleicoes/estatisticas/repositorio-de-dados-eleitorais-1/repositorio-de-dados-eleitorais\n",
    "\n",
    "Acesso em: 09/12/2020."
   ]
  },
  {
   "cell_type": "markdown",
   "metadata": {
    "heading_collapsed": true
   },
   "source": [
    "# Bibliotecas e configurações iniciais"
   ]
  },
  {
   "cell_type": "code",
   "execution_count": 1,
   "metadata": {
    "ExecuteTime": {
     "end_time": "2021-02-10T15:44:25.755840Z",
     "start_time": "2021-02-10T15:44:22.937938Z"
    },
    "hidden": true
   },
   "outputs": [],
   "source": [
    "import pandas as pd\n",
    "import numpy as np\n",
    "from tqdm import tqdm\n",
    "\n",
    "from bs4 import BeautifulSoup\n",
    "from selenium import webdriver\n",
    "from selenium.webdriver.chrome.options import Options\n",
    "\n",
    "pd.set_option('display.max_columns', None)"
   ]
  },
  {
   "cell_type": "markdown",
   "metadata": {
    "heading_collapsed": true
   },
   "source": [
    "# Importando Dados"
   ]
  },
  {
   "cell_type": "markdown",
   "metadata": {
    "heading_collapsed": true,
    "hidden": true
   },
   "source": [
    "## Colunas"
   ]
  },
  {
   "cell_type": "code",
   "execution_count": 2,
   "metadata": {
    "ExecuteTime": {
     "end_time": "2021-02-10T15:44:25.771782Z",
     "start_time": "2021-02-10T15:44:25.756875Z"
    },
    "hidden": true
   },
   "outputs": [],
   "source": [
    "colunasMunicipal = [\n",
    "    'DATA', 'HORA', 'ANO_ELEICAO', 'NR_TURNO', 'TIPO_ELEICAO', 'SG_UF', 'NUM',\n",
    "    'NUM2', 'CIDADE', 'NUM3', 'NUM4', 'DS_CARGO', 'LETRA', 'PALAVRA',\n",
    "    'COLIGACAO', 'SG_PARTIDO', 'NUM5', 'PARTIDO', 'QT_VOTOS_NOMINAIS',\n",
    "    'QT_VOTOS_LEGENDA', 'ALGO'\n",
    "]\n",
    "\n",
    "colunasFederal1 = [\n",
    "    'DATA', 'HORA', 'ANO_ELEICAO', 'NR_TURNO', 'TIPO_ELEICAO', 'SG_UF',\n",
    "    'PAIS', 'NUM', 'NUM2', 'NUM3', 'CANDIDATO', 'CANDIDATO2', 'DS_CARGO',\n",
    "    'NUM4', 'ALGO1', 'NUM5', 'DEFERIDO', 'NUM6', 'ELEITO', 'NUM_PARTIDO',\n",
    "    'SG_PARTIDO', 'PARTIDO', 'NUM7', 'COLIGACAO', 'COLIGACAO_PARTIDOS',\n",
    "    'QT_VOTOS_NOMINAIS'\n",
    "]\n",
    "\n",
    "colunasFederal2 = [\n",
    "    'DATA', 'HORA', 'ANO_ELEICAO', 'NR_TURNO', 'TIPO_ELEICAO', 'SG_UF', 'NUM',\n",
    "    'NUM2', 'CIDADE', 'NUM3', 'NUM4', 'DS_CARGO', 'COLIGACAO', 'SG_COLIGACAO',\n",
    "    'N_IDEN', 'SG_PARTIDO', 'N_PARTIDO', 'PARTIDO', 'QT_VOTOS_NOMINAIS',\n",
    "    'QT_VOTOS_LEGENDA', 'ALGO'\n",
    "]\n",
    "\n",
    "colunas_1990 = [\n",
    "    'DATA', 'HORA', 'ANO_ELEICAO', 'NR_TURNO', 'TIPO_ELEICAO', 'SG_UF',\n",
    "    'SG_UF2', 'NUM', 'DS_CARGO', 'COLIGACAO', 'NOM_COLIGACAO', 'SG_COLIGACAO',\n",
    "    'SG_PARTIDO', 'N_PARTIDO', 'PARTIDO', 'QT_VOTOS_NOMINAIS',\n",
    "    'QT_VOTOS_LEGENDA'\n",
    "]"
   ]
  },
  {
   "cell_type": "markdown",
   "metadata": {
    "heading_collapsed": true,
    "hidden": true
   },
   "source": [
    "## 1990 - Estadual"
   ]
  },
  {
   "cell_type": "code",
   "execution_count": 3,
   "metadata": {
    "ExecuteTime": {
     "end_time": "2021-02-10T15:44:25.912518Z",
     "start_time": "2021-02-10T15:44:25.772783Z"
    },
    "hidden": true
   },
   "outputs": [],
   "source": [
    "datasets = [\n",
    "    'VOTACAO_PARTIDO_UF_1990_AL.txt', 'VOTACAO_PARTIDO_UF_1990_AM.txt',\n",
    "    'VOTACAO_PARTIDO_UF_1990_AP.txt', 'VOTACAO_PARTIDO_UF_1990_BA.txt',\n",
    "    'VOTACAO_PARTIDO_UF_1990_CE.txt', 'VOTACAO_PARTIDO_UF_1990_DF.txt',\n",
    "    'VOTACAO_PARTIDO_UF_1990_ES.txt', 'VOTACAO_PARTIDO_UF_1990_GO.txt',\n",
    "    'VOTACAO_PARTIDO_UF_1990_MA.txt', 'VOTACAO_PARTIDO_UF_1990_MG.txt',\n",
    "    'VOTACAO_PARTIDO_UF_1990_MS.txt', 'VOTACAO_PARTIDO_UF_1990_MT.txt',\n",
    "    'VOTACAO_PARTIDO_UF_1990_PA.txt', 'VOTACAO_PARTIDO_UF_1990_PB.txt',\n",
    "    'VOTACAO_PARTIDO_UF_1990_PE.txt', 'VOTACAO_PARTIDO_UF_1990_PI.txt',\n",
    "    'VOTACAO_PARTIDO_UF_1990_PR.txt', 'VOTACAO_PARTIDO_UF_1990_RJ.txt',\n",
    "    'VOTACAO_PARTIDO_UF_1990_RN.txt', 'VOTACAO_PARTIDO_UF_1990_RO.txt',\n",
    "    'VOTACAO_PARTIDO_UF_1990_RR.txt', 'VOTACAO_PARTIDO_UF_1990_RS.txt',\n",
    "    'VOTACAO_PARTIDO_UF_1990_SC.txt', 'VOTACAO_PARTIDO_UF_1990_SE.txt',\n",
    "    'VOTACAO_PARTIDO_UF_1990_SP.txt', 'VOTACAO_PARTIDO_UF_1990_TO.txt'\n",
    "]\n",
    "\n",
    "df_1990 = pd.read_csv('dados_partido/VOTACAO_PARTIDO_UF_1990_AC.txt',\n",
    "                      error_bad_lines=False,\n",
    "                      header=None,\n",
    "                      sep=';',\n",
    "                      encoding=\"ISO-8859-1\",\n",
    "                      names=colunas_1990)\n",
    "for data in datasets:\n",
    "    df = pd.read_csv('dados_partido/' + data,\n",
    "                     error_bad_lines=False,\n",
    "                     header=None,\n",
    "                     sep=';',\n",
    "                     encoding=\"ISO-8859-1\",\n",
    "                     names=colunas_1990)\n",
    "    df_1990 = pd.concat([df_1990, df])"
   ]
  },
  {
   "cell_type": "markdown",
   "metadata": {
    "heading_collapsed": true,
    "hidden": true
   },
   "source": [
    "## 1994 - Federal/Estadual"
   ]
  },
  {
   "cell_type": "code",
   "execution_count": 4,
   "metadata": {
    "ExecuteTime": {
     "end_time": "2021-02-10T15:44:26.615397Z",
     "start_time": "2021-02-10T15:44:25.913576Z"
    },
    "hidden": true
   },
   "outputs": [],
   "source": [
    "datasets = [\n",
    "    'votacao_partido_munzona_1994_AL.txt',\n",
    "    'votacao_partido_munzona_1994_AM.txt',\n",
    "    'votacao_partido_munzona_1994_AP.txt',\n",
    "    'votacao_partido_munzona_1994_BA.txt',\n",
    "    'votacao_partido_munzona_1994_BR.txt',\n",
    "    'votacao_partido_munzona_1994_GO.txt',\n",
    "    'votacao_partido_munzona_1994_MA.txt',\n",
    "    'votacao_partido_munzona_1994_MS.txt',\n",
    "    'votacao_partido_munzona_1994_PI.txt',\n",
    "    'votacao_partido_munzona_1994_RR.txt',\n",
    "    'votacao_partido_munzona_1994_RS.txt',\n",
    "    'votacao_partido_munzona_1994_SC.txt',\n",
    "    'votacao_partido_munzona_1994_SE.txt',\n",
    "    'votacao_partido_munzona_1994_SP.txt',\n",
    "    'votacao_partido_munzona_1994_TO.txt'\n",
    "]\n",
    "\n",
    "df_1994 = pd.read_csv('dados_partido/votacao_partido_munzona_1994_AC.txt',\n",
    "                      error_bad_lines=False,\n",
    "                      header=None,\n",
    "                      sep=';',\n",
    "                      encoding=\"ISO-8859-1\",\n",
    "                      names=colunasFederal2)\n",
    "for data in datasets:\n",
    "    df = pd.read_csv('dados_partido/'+data,\n",
    "                     error_bad_lines=False,\n",
    "                     header=None,\n",
    "                     sep=';',\n",
    "                     encoding=\"ISO-8859-1\",\n",
    "                     names=colunasFederal2)\n",
    "    df_1994 = pd.concat([df_1994, df])"
   ]
  },
  {
   "cell_type": "markdown",
   "metadata": {
    "heading_collapsed": true,
    "hidden": true
   },
   "source": [
    "## 1996 - Municipal"
   ]
  },
  {
   "cell_type": "code",
   "execution_count": 5,
   "metadata": {
    "ExecuteTime": {
     "end_time": "2021-02-10T15:44:26.771218Z",
     "start_time": "2021-02-10T15:44:26.616362Z"
    },
    "hidden": true
   },
   "outputs": [],
   "source": [
    "datasets = [\n",
    "    'votacao_partido_munzona_1996_AL.txt',\n",
    "    'votacao_partido_munzona_1996_AM.txt',\n",
    "    'votacao_partido_munzona_1996_AP.txt',\n",
    "    'votacao_partido_munzona_1996_BA.txt',\n",
    "    'votacao_partido_munzona_1996_CE.txt',\n",
    "    'votacao_partido_munzona_1996_ES.txt',\n",
    "    'votacao_partido_munzona_1996_GO.txt',\n",
    "    'votacao_partido_munzona_1996_MA.txt',\n",
    "    'votacao_partido_munzona_1996_MG.txt',\n",
    "    'votacao_partido_munzona_1996_MS.txt',\n",
    "    'votacao_partido_munzona_1996_PA.txt',\n",
    "    'votacao_partido_munzona_1996_PB.txt',\n",
    "    'votacao_partido_munzona_1996_PE.txt',\n",
    "    'votacao_partido_munzona_1996_PI.txt',\n",
    "    'votacao_partido_munzona_1996_RN.txt',\n",
    "    'votacao_partido_munzona_1996_RO.txt',\n",
    "    'votacao_partido_munzona_1996_RR.txt',\n",
    "    'votacao_partido_munzona_1996_RS.txt',\n",
    "    'votacao_partido_munzona_1996_SE.txt',\n",
    "    'votacao_partido_munzona_1996_SP.txt',\n",
    "    'votacao_partido_munzona_1996_TO.txt'\n",
    "]\n",
    "df_1996 = pd.read_csv('dados_partido/votacao_partido_munzona_1996_AC.txt',\n",
    "                      error_bad_lines=False,\n",
    "                      header=None,\n",
    "                      sep=';',\n",
    "                      encoding=\"ISO-8859-1\",\n",
    "                      names=colunasMunicipal)\n",
    "for data in datasets:\n",
    "    df = pd.read_csv('dados_partido/'+data,\n",
    "                     error_bad_lines=False,\n",
    "                     header=None,\n",
    "                     sep=';',\n",
    "                     encoding=\"ISO-8859-1\",\n",
    "                     names=colunasMunicipal)\n",
    "    df_1996 = pd.concat([df_1996, df])"
   ]
  },
  {
   "cell_type": "markdown",
   "metadata": {
    "heading_collapsed": true,
    "hidden": true
   },
   "source": [
    "## 1998 - Federal/Estadual"
   ]
  },
  {
   "cell_type": "code",
   "execution_count": 6,
   "metadata": {
    "ExecuteTime": {
     "end_time": "2021-02-10T15:44:29.243022Z",
     "start_time": "2021-02-10T15:44:26.772210Z"
    },
    "hidden": true
   },
   "outputs": [],
   "source": [
    "datasets = [\n",
    "    'votacao_partido_munzona_1998_AL.txt',\n",
    "    'votacao_partido_munzona_1998_AM.txt',\n",
    "    'votacao_partido_munzona_1998_AP.txt',\n",
    "    'votacao_partido_munzona_1998_BA.txt',\n",
    "    'votacao_partido_munzona_1998_BR.txt',\n",
    "    'votacao_partido_munzona_1998_CE.txt',\n",
    "    'votacao_partido_munzona_1998_DF.txt',\n",
    "    'votacao_partido_munzona_1998_ES.txt',\n",
    "    'votacao_partido_munzona_1998_GO.txt',\n",
    "    'votacao_partido_munzona_1998_MA.txt',\n",
    "    'votacao_partido_munzona_1998_MG.txt',\n",
    "    'votacao_partido_munzona_1998_MS.txt',\n",
    "    'votacao_partido_munzona_1998_MT.txt',\n",
    "    'votacao_partido_munzona_1998_PA.txt',\n",
    "    'votacao_partido_munzona_1998_PB.txt',\n",
    "    'votacao_partido_munzona_1998_PE.txt',\n",
    "    'votacao_partido_munzona_1998_PI.txt',\n",
    "    'votacao_partido_munzona_1998_PR.txt',\n",
    "    'votacao_partido_munzona_1998_RJ.txt',\n",
    "    'votacao_partido_munzona_1998_RN.txt',\n",
    "    'votacao_partido_munzona_1998_RO.txt',\n",
    "    'votacao_partido_munzona_1998_RR.txt',\n",
    "    'votacao_partido_munzona_1998_RS.txt',\n",
    "    'votacao_partido_munzona_1998_SC.txt',\n",
    "    'votacao_partido_munzona_1998_SE.txt',\n",
    "    'votacao_partido_munzona_1998_SP.txt',\n",
    "    'votacao_partido_munzona_1998_TO.txt',\n",
    "    'votacao_partido_munzona_1998_ZZ.txt'\n",
    "]\n",
    "\n",
    "df_1998 = pd.read_csv('dados_partido/votacao_partido_munzona_1998_AC.txt',\n",
    "                      error_bad_lines=False,\n",
    "                      header=None,\n",
    "                      sep=';',\n",
    "                      encoding=\"ISO-8859-1\",\n",
    "                      names=colunasFederal2)\n",
    "for data in datasets:\n",
    "    df = pd.read_csv('dados_partido/'+data,\n",
    "                     error_bad_lines=False,\n",
    "                     header=None,\n",
    "                     sep=';',\n",
    "                     encoding=\"ISO-8859-1\",\n",
    "                     names=colunasFederal2)\n",
    "    df_1998 = pd.concat([df_1998, df])"
   ]
  },
  {
   "cell_type": "markdown",
   "metadata": {
    "heading_collapsed": true,
    "hidden": true
   },
   "source": [
    "## 2000 - Municipal"
   ]
  },
  {
   "cell_type": "code",
   "execution_count": 7,
   "metadata": {
    "ExecuteTime": {
     "end_time": "2021-02-10T15:44:29.970734Z",
     "start_time": "2021-02-10T15:44:29.244021Z"
    },
    "hidden": true
   },
   "outputs": [],
   "source": [
    "datasets = [\n",
    "    'votacao_partido_munzona_2000_AL.txt',\n",
    "    'votacao_partido_munzona_2000_AM.txt',\n",
    "    'votacao_partido_munzona_2000_AP.txt',\n",
    "    'votacao_partido_munzona_2000_BA.txt',\n",
    "    'votacao_partido_munzona_2000_CE.txt',\n",
    "    'votacao_partido_munzona_2000_ES.txt',\n",
    "    'votacao_partido_munzona_2000_GO.txt',\n",
    "    'votacao_partido_munzona_2000_MA.txt',\n",
    "    'votacao_partido_munzona_2000_MG.txt',\n",
    "    'votacao_partido_munzona_2000_MS.txt',\n",
    "    'votacao_partido_munzona_2000_MT.txt',\n",
    "    'votacao_partido_munzona_2000_PA.txt',\n",
    "    'votacao_partido_munzona_2000_PB.txt',\n",
    "    'votacao_partido_munzona_2000_PE.txt',\n",
    "    'votacao_partido_munzona_2000_PI.txt',\n",
    "    'votacao_partido_munzona_2000_PR.txt',\n",
    "    'votacao_partido_munzona_2000_RJ.txt',\n",
    "    'votacao_partido_munzona_2000_RN.txt',\n",
    "    'votacao_partido_munzona_2000_RO.txt',\n",
    "    'votacao_partido_munzona_2000_RR.txt',\n",
    "    'votacao_partido_munzona_2000_RS.txt',\n",
    "    'votacao_partido_munzona_2000_SC.txt',\n",
    "    'votacao_partido_munzona_2000_SE.txt',\n",
    "    'votacao_partido_munzona_2000_SP.txt',\n",
    "    'votacao_partido_munzona_2000_TO.txt',\n",
    "]\n",
    "df_2000 = pd.read_csv('dados_partido/votacao_partido_munzona_2000_AC.txt',\n",
    "                      error_bad_lines=False,\n",
    "                      header=None,\n",
    "                      sep=';',\n",
    "                      encoding=\"ISO-8859-1\",\n",
    "                      names=colunasMunicipal)\n",
    "for data in datasets:\n",
    "    df = pd.read_csv('dados_partido/'+data,\n",
    "                     error_bad_lines=False,\n",
    "                     header=None,\n",
    "                     sep=';',\n",
    "                     encoding=\"ISO-8859-1\",\n",
    "                     names=colunasMunicipal)\n",
    "    df_2000 = pd.concat([df_2000, df])"
   ]
  },
  {
   "cell_type": "markdown",
   "metadata": {
    "heading_collapsed": true,
    "hidden": true
   },
   "source": [
    "## 2002 - Federal/Estadual"
   ]
  },
  {
   "cell_type": "code",
   "execution_count": 8,
   "metadata": {
    "ExecuteTime": {
     "end_time": "2021-02-10T15:44:33.674427Z",
     "start_time": "2021-02-10T15:44:29.972728Z"
    },
    "hidden": true
   },
   "outputs": [],
   "source": [
    "datasets = [\n",
    "    'votacao_partido_munzona_2002_AL.txt',\n",
    "    'votacao_partido_munzona_2002_AM.txt',\n",
    "    'votacao_partido_munzona_2002_AP.txt',\n",
    "    'votacao_partido_munzona_2002_BA.txt',\n",
    "    'votacao_partido_munzona_2002_BR.txt',\n",
    "    'votacao_partido_munzona_2002_CE.txt',\n",
    "    'votacao_partido_munzona_2002_DF.txt',\n",
    "    'votacao_partido_munzona_2002_ES.txt',\n",
    "    'votacao_partido_munzona_2002_GO.txt',\n",
    "    'votacao_partido_munzona_2002_MA.txt',\n",
    "    'votacao_partido_munzona_2002_MG.txt',\n",
    "    'votacao_partido_munzona_2002_MS.txt',\n",
    "    'votacao_partido_munzona_2002_MT.txt',\n",
    "    'votacao_partido_munzona_2002_PA.txt',\n",
    "    'votacao_partido_munzona_2002_PB.txt',\n",
    "    'votacao_partido_munzona_2002_PE.txt',\n",
    "    'votacao_partido_munzona_2002_PI.txt',\n",
    "    'votacao_partido_munzona_2002_PR.txt',\n",
    "    'votacao_partido_munzona_2002_RJ.txt',\n",
    "    'votacao_partido_munzona_2002_RN.txt',\n",
    "    'votacao_partido_munzona_2002_RO.txt',\n",
    "    'votacao_partido_munzona_2002_RR.txt',\n",
    "    'votacao_partido_munzona_2002_RS.txt',\n",
    "    'votacao_partido_munzona_2002_SC.txt',\n",
    "    'votacao_partido_munzona_2002_SE.txt',\n",
    "    'votacao_partido_munzona_2002_SP.txt',\n",
    "    'votacao_partido_munzona_2002_TO.txt',\n",
    "    'votacao_partido_munzona_2002_ZZ.txt'\n",
    "]\n",
    "\n",
    "df_2002 = pd.read_csv('dados_partido/votacao_partido_munzona_2002_AC.txt',\n",
    "                      error_bad_lines=False,\n",
    "                      header=None,\n",
    "                      sep=';',\n",
    "                      encoding=\"ISO-8859-1\",\n",
    "                      names=colunasFederal2)\n",
    "for data in datasets:\n",
    "    df = pd.read_csv('dados_partido/'+data,\n",
    "                     error_bad_lines=False,\n",
    "                     header=None,\n",
    "                     sep=';',\n",
    "                     encoding=\"ISO-8859-1\",\n",
    "                     names=colunasFederal2)\n",
    "    df_2002 = pd.concat([df_2002, df])"
   ]
  },
  {
   "cell_type": "markdown",
   "metadata": {
    "heading_collapsed": true,
    "hidden": true
   },
   "source": [
    "## 2004 - Municipal"
   ]
  },
  {
   "cell_type": "code",
   "execution_count": 9,
   "metadata": {
    "ExecuteTime": {
     "end_time": "2021-02-10T15:44:34.462456Z",
     "start_time": "2021-02-10T15:44:33.676422Z"
    },
    "hidden": true
   },
   "outputs": [],
   "source": [
    "datasets = [\n",
    "    'votacao_partido_munzona_2004_AL.txt',\n",
    "    'votacao_partido_munzona_2004_AM.txt',\n",
    "    'votacao_partido_munzona_2004_AP.txt',\n",
    "    'votacao_partido_munzona_2004_BA.txt',\n",
    "    'votacao_partido_munzona_2004_CE.txt',\n",
    "    'votacao_partido_munzona_2004_ES.txt',\n",
    "    'votacao_partido_munzona_2004_GO.txt',\n",
    "    'votacao_partido_munzona_2004_MA.txt',\n",
    "    'votacao_partido_munzona_2004_MG.txt',\n",
    "    'votacao_partido_munzona_2004_MS.txt',\n",
    "    'votacao_partido_munzona_2004_MT.txt',\n",
    "    'votacao_partido_munzona_2004_PA.txt',\n",
    "    'votacao_partido_munzona_2004_PB.txt',\n",
    "    'votacao_partido_munzona_2004_PE.txt',\n",
    "    'votacao_partido_munzona_2004_PI.txt',\n",
    "    'votacao_partido_munzona_2004_PR.txt',\n",
    "    'votacao_partido_munzona_2004_RJ.txt',\n",
    "    'votacao_partido_munzona_2004_RN.txt',\n",
    "    'votacao_partido_munzona_2004_RO.txt',\n",
    "    'votacao_partido_munzona_2004_RR.txt',\n",
    "    'votacao_partido_munzona_2004_RS.txt',\n",
    "    'votacao_partido_munzona_2004_SC.txt',\n",
    "    'votacao_partido_munzona_2004_SE.txt',\n",
    "    'votacao_partido_munzona_2004_SP.txt',\n",
    "    'votacao_partido_munzona_2004_TO.txt',\n",
    "]\n",
    "df_2004 = pd.read_csv('dados_partido/votacao_partido_munzona_2004_AC.txt',\n",
    "                      error_bad_lines=False,\n",
    "                      header=None,\n",
    "                      sep=';',\n",
    "                      encoding=\"ISO-8859-1\",\n",
    "                      names=colunasMunicipal)\n",
    "for data in datasets:\n",
    "    df = pd.read_csv('dados_partido/'+data,\n",
    "                     error_bad_lines=False,\n",
    "                     header=None,\n",
    "                     sep=';',\n",
    "                     encoding=\"ISO-8859-1\",\n",
    "                     names=colunasMunicipal)\n",
    "    df_2004 = pd.concat([df_2004, df])"
   ]
  },
  {
   "cell_type": "markdown",
   "metadata": {
    "heading_collapsed": true,
    "hidden": true
   },
   "source": [
    "## 2006 - Estadual/Federal"
   ]
  },
  {
   "cell_type": "code",
   "execution_count": 10,
   "metadata": {
    "ExecuteTime": {
     "end_time": "2021-02-10T15:44:37.973831Z",
     "start_time": "2021-02-10T15:44:34.463455Z"
    },
    "hidden": true
   },
   "outputs": [],
   "source": [
    "datasets = [\n",
    "    'votacao_partido_munzona_2006_AL.txt',\n",
    "    'votacao_partido_munzona_2006_AM.txt',\n",
    "    'votacao_partido_munzona_2006_AP.txt',\n",
    "    'votacao_partido_munzona_2006_BA.txt',\n",
    "    'votacao_partido_munzona_2006_BR.txt',\n",
    "    'votacao_partido_munzona_2006_CE.txt',\n",
    "    'votacao_partido_munzona_2006_DF.txt',\n",
    "    'votacao_partido_munzona_2006_ES.txt',\n",
    "    'votacao_partido_munzona_2006_GO.txt',\n",
    "    'votacao_partido_munzona_2006_MA.txt',\n",
    "    'votacao_partido_munzona_2006_MG.txt',\n",
    "    'votacao_partido_munzona_2006_MS.txt',\n",
    "    'votacao_partido_munzona_2006_MT.txt',\n",
    "    'votacao_partido_munzona_2006_PA.txt',\n",
    "    'votacao_partido_munzona_2006_PB.txt',\n",
    "    'votacao_partido_munzona_2006_PE.txt',\n",
    "    'votacao_partido_munzona_2006_PI.txt',\n",
    "    'votacao_partido_munzona_2006_PR.txt',\n",
    "    'votacao_partido_munzona_2006_RJ.txt',\n",
    "    'votacao_partido_munzona_2006_RN.txt',\n",
    "    'votacao_partido_munzona_2006_RO.txt',\n",
    "    'votacao_partido_munzona_2006_RR.txt',\n",
    "    'votacao_partido_munzona_2006_RS.txt',\n",
    "    'votacao_partido_munzona_2006_SC.txt',\n",
    "    'votacao_partido_munzona_2006_SE.txt',\n",
    "    'votacao_partido_munzona_2006_SP.txt',\n",
    "    'votacao_partido_munzona_2006_TO.txt',\n",
    "    'votacao_partido_munzona_2006_ZZ.txt'\n",
    "]\n",
    "\n",
    "df_2006 = pd.read_csv('dados_partido/votacao_partido_munzona_2006_AC.txt',\n",
    "                      error_bad_lines=False,\n",
    "                      header=None,\n",
    "                      sep=';',\n",
    "                      encoding=\"ISO-8859-1\",\n",
    "                      names=colunasFederal2)\n",
    "for data in datasets:\n",
    "    df = pd.read_csv('dados_partido/'+data,\n",
    "                     error_bad_lines=False,\n",
    "                     header=None,\n",
    "                     sep=';',\n",
    "                     encoding=\"ISO-8859-1\",\n",
    "                     names=colunasFederal2)\n",
    "    df_2006 = pd.concat([df_2006, df])"
   ]
  },
  {
   "cell_type": "markdown",
   "metadata": {
    "heading_collapsed": true,
    "hidden": true
   },
   "source": [
    "## 2008 - Municipal"
   ]
  },
  {
   "cell_type": "code",
   "execution_count": 11,
   "metadata": {
    "ExecuteTime": {
     "end_time": "2021-02-10T15:44:38.778790Z",
     "start_time": "2021-02-10T15:44:37.974787Z"
    },
    "hidden": true
   },
   "outputs": [],
   "source": [
    "datasets = [\n",
    "    'votacao_partido_munzona_2008_AL.txt',\n",
    "    'votacao_partido_munzona_2008_AM.txt',\n",
    "    'votacao_partido_munzona_2008_AP.txt',\n",
    "    'votacao_partido_munzona_2008_BA.txt',\n",
    "    'votacao_partido_munzona_2008_CE.txt',\n",
    "    'votacao_partido_munzona_2008_ES.txt',\n",
    "    'votacao_partido_munzona_2008_GO.txt',\n",
    "    'votacao_partido_munzona_2008_MA.txt',\n",
    "    'votacao_partido_munzona_2008_MG.txt',\n",
    "    'votacao_partido_munzona_2008_MS.txt',\n",
    "    'votacao_partido_munzona_2008_MT.txt',\n",
    "    'votacao_partido_munzona_2008_PA.txt',\n",
    "    'votacao_partido_munzona_2008_PB.txt',\n",
    "    'votacao_partido_munzona_2008_PE.txt',\n",
    "    'votacao_partido_munzona_2008_PI.txt',\n",
    "    'votacao_partido_munzona_2008_PR.txt',\n",
    "    'votacao_partido_munzona_2008_RJ.txt',\n",
    "    'votacao_partido_munzona_2008_RN.txt',\n",
    "    'votacao_partido_munzona_2008_RO.txt',\n",
    "    'votacao_partido_munzona_2008_RR.txt',\n",
    "    'votacao_partido_munzona_2008_RS.txt',\n",
    "    'votacao_partido_munzona_2008_SC.txt',\n",
    "    'votacao_partido_munzona_2008_SE.txt',\n",
    "    'votacao_partido_munzona_2008_SP.txt',\n",
    "    'votacao_partido_munzona_2008_TO.txt',\n",
    "]\n",
    "df_2008 = pd.read_csv('dados_partido/votacao_partido_munzona_2008_AC.txt',\n",
    "                      error_bad_lines=False,\n",
    "                      header=None,\n",
    "                      sep=';',\n",
    "                      encoding=\"ISO-8859-1\",\n",
    "                      names=colunasMunicipal)\n",
    "for data in datasets:\n",
    "    df = pd.read_csv('dados_partido/'+data,\n",
    "                     error_bad_lines=False,\n",
    "                     header=None,\n",
    "                     sep=';',\n",
    "                     encoding=\"ISO-8859-1\",\n",
    "                     names=colunasMunicipal)\n",
    "    df_2008 = pd.concat([df_2008, df])"
   ]
  },
  {
   "cell_type": "markdown",
   "metadata": {
    "heading_collapsed": true,
    "hidden": true
   },
   "source": [
    "## 2010 - Federal/Estadual"
   ]
  },
  {
   "cell_type": "code",
   "execution_count": 12,
   "metadata": {
    "ExecuteTime": {
     "end_time": "2021-02-10T15:44:42.380709Z",
     "start_time": "2021-02-10T15:44:38.779792Z"
    },
    "hidden": true
   },
   "outputs": [],
   "source": [
    "datasets = [\n",
    "    'votacao_partido_munzona_2010_AL.txt',\n",
    "    'votacao_partido_munzona_2010_AM.txt',\n",
    "    'votacao_partido_munzona_2010_AP.txt',\n",
    "    'votacao_partido_munzona_2010_BA.txt',\n",
    "    'votacao_partido_munzona_2010_BR.txt',\n",
    "    'votacao_partido_munzona_2010_CE.txt',\n",
    "    'votacao_partido_munzona_2010_DF.txt',\n",
    "    'votacao_partido_munzona_2010_ES.txt',\n",
    "    'votacao_partido_munzona_2010_GO.txt',\n",
    "    'votacao_partido_munzona_2010_MA.txt',\n",
    "    'votacao_partido_munzona_2010_MG.txt',\n",
    "    'votacao_partido_munzona_2010_MS.txt',\n",
    "    'votacao_partido_munzona_2010_MT.txt',\n",
    "    'votacao_partido_munzona_2010_PA.txt',\n",
    "    'votacao_partido_munzona_2010_PB.txt',\n",
    "    'votacao_partido_munzona_2010_PE.txt',\n",
    "    'votacao_partido_munzona_2010_PI.txt',\n",
    "    'votacao_partido_munzona_2010_PR.txt',\n",
    "    'votacao_partido_munzona_2010_RJ.txt',\n",
    "    'votacao_partido_munzona_2010_RN.txt',\n",
    "    'votacao_partido_munzona_2010_RO.txt',\n",
    "    'votacao_partido_munzona_2010_RR.txt',\n",
    "    'votacao_partido_munzona_2010_RS.txt',\n",
    "    'votacao_partido_munzona_2010_SC.txt',\n",
    "    'votacao_partido_munzona_2010_SE.txt',\n",
    "    'votacao_partido_munzona_2010_SP.txt',\n",
    "    'votacao_partido_munzona_2010_TO.txt',\n",
    "    'votacao_partido_munzona_2010_VT.txt',\n",
    "    'votacao_partido_munzona_2010_ZZ.txt'\n",
    "]\n",
    "\n",
    "df_2010 = pd.read_csv('dados_partido/votacao_partido_munzona_2010_AC.txt',\n",
    "                      error_bad_lines=False,\n",
    "                      header=None,\n",
    "                      sep=';',\n",
    "                      encoding=\"ISO-8859-1\",\n",
    "                      names=colunasFederal2)\n",
    "for data in datasets:\n",
    "    df = pd.read_csv('dados_partido/'+data,\n",
    "                     error_bad_lines=False,\n",
    "                     header=None,\n",
    "                     sep=';',\n",
    "                     encoding=\"ISO-8859-1\",\n",
    "                     names=colunasFederal2)\n",
    "    df_2010 = pd.concat([df_2010, df])"
   ]
  },
  {
   "cell_type": "markdown",
   "metadata": {
    "heading_collapsed": true,
    "hidden": true
   },
   "source": [
    "## 2012 - Municipal"
   ]
  },
  {
   "cell_type": "code",
   "execution_count": 13,
   "metadata": {
    "ExecuteTime": {
     "end_time": "2021-02-10T15:44:43.305723Z",
     "start_time": "2021-02-10T15:44:42.381709Z"
    },
    "hidden": true
   },
   "outputs": [],
   "source": [
    "datasets = [\n",
    "    'votacao_partido_munzona_2012_AL.txt',\n",
    "    'votacao_partido_munzona_2012_AM.txt',\n",
    "    'votacao_partido_munzona_2012_AP.txt',\n",
    "    'votacao_partido_munzona_2012_BA.txt',\n",
    "    'votacao_partido_munzona_2012_CE.txt',\n",
    "    'votacao_partido_munzona_2012_ES.txt',\n",
    "    'votacao_partido_munzona_2012_GO.txt',\n",
    "    'votacao_partido_munzona_2012_MA.txt',\n",
    "    'votacao_partido_munzona_2012_MG.txt',\n",
    "    'votacao_partido_munzona_2012_MS.txt',\n",
    "    'votacao_partido_munzona_2012_MT.txt',\n",
    "    'votacao_partido_munzona_2012_PA.txt',\n",
    "    'votacao_partido_munzona_2012_PB.txt',\n",
    "    'votacao_partido_munzona_2012_PE.txt',\n",
    "    'votacao_partido_munzona_2012_PI.txt',\n",
    "    'votacao_partido_munzona_2012_PR.txt',\n",
    "    'votacao_partido_munzona_2012_RJ.txt',\n",
    "    'votacao_partido_munzona_2012_RN.txt',\n",
    "    'votacao_partido_munzona_2012_RO.txt',\n",
    "    'votacao_partido_munzona_2012_RR.txt',\n",
    "    'votacao_partido_munzona_2012_RS.txt',\n",
    "    'votacao_partido_munzona_2012_SC.txt',\n",
    "    'votacao_partido_munzona_2012_SE.txt',\n",
    "    'votacao_partido_munzona_2012_SP.txt',\n",
    "    'votacao_partido_munzona_2012_TO.txt',\n",
    "]\n",
    "df_2012 = pd.read_csv('dados_partido/votacao_partido_munzona_2012_AC.txt',\n",
    "                      error_bad_lines=False,\n",
    "                      header=None,\n",
    "                      sep=';',\n",
    "                      encoding=\"ISO-8859-1\",\n",
    "                      names=colunasMunicipal)\n",
    "for data in datasets:\n",
    "    df = pd.read_csv('dados_partido/'+data,\n",
    "                     error_bad_lines=False,\n",
    "                     header=None,\n",
    "                     sep=';',\n",
    "                     encoding=\"ISO-8859-1\",\n",
    "                     names=colunasMunicipal)\n",
    "    df_2012 = pd.concat([df_2012, df])"
   ]
  },
  {
   "cell_type": "markdown",
   "metadata": {
    "heading_collapsed": true,
    "hidden": true
   },
   "source": [
    "## 2014 - Federal/Estadual"
   ]
  },
  {
   "cell_type": "code",
   "execution_count": 14,
   "metadata": {
    "ExecuteTime": {
     "end_time": "2021-02-10T15:44:45.087191Z",
     "start_time": "2021-02-10T15:44:43.306724Z"
    },
    "hidden": true
   },
   "outputs": [],
   "source": [
    "df_2014 = pd.read_csv('dados_partido/votacao_partido_munzona_2014_BRASIL.csv',\n",
    "                      error_bad_lines=False,\n",
    "                      sep=';',\n",
    "                      encoding=\"ISO-8859-1\")"
   ]
  },
  {
   "cell_type": "markdown",
   "metadata": {
    "heading_collapsed": true,
    "hidden": true
   },
   "source": [
    "## 2016 - Municipal"
   ]
  },
  {
   "cell_type": "code",
   "execution_count": 15,
   "metadata": {
    "ExecuteTime": {
     "end_time": "2021-02-10T15:44:45.553303Z",
     "start_time": "2021-02-10T15:44:45.088145Z"
    },
    "hidden": true
   },
   "outputs": [],
   "source": [
    "df_2016 = pd.read_csv('dados_partido/votacao_partido_munzona_2016_BRASIL.csv',\n",
    "                      error_bad_lines=False,\n",
    "                      sep=';',\n",
    "                      encoding=\"ISO-8859-1\")"
   ]
  },
  {
   "cell_type": "markdown",
   "metadata": {
    "heading_collapsed": true,
    "hidden": true
   },
   "source": [
    "## 2018 - Federal/Estadual"
   ]
  },
  {
   "cell_type": "code",
   "execution_count": 16,
   "metadata": {
    "ExecuteTime": {
     "end_time": "2021-02-10T15:44:47.397807Z",
     "start_time": "2021-02-10T15:44:45.554304Z"
    },
    "hidden": true
   },
   "outputs": [],
   "source": [
    "df_2018 = pd.read_csv('dados_partido/votacao_partido_munzona_2018_BRASIL.csv',\n",
    "                      error_bad_lines=False,\n",
    "                      sep=';',\n",
    "                      encoding=\"ISO-8859-1\")"
   ]
  },
  {
   "cell_type": "markdown",
   "metadata": {
    "heading_collapsed": true,
    "hidden": true
   },
   "source": [
    "## 2020 - Municipal"
   ]
  },
  {
   "cell_type": "code",
   "execution_count": 17,
   "metadata": {
    "ExecuteTime": {
     "end_time": "2021-02-10T15:44:47.663363Z",
     "start_time": "2021-02-10T15:44:47.398716Z"
    },
    "hidden": true
   },
   "outputs": [],
   "source": [
    "df_2020 = pd.read_csv('dados_partido/votacao_partido_munzona_2020_BRASIL.csv',\n",
    "                      error_bad_lines=False,\n",
    "                      sep=';',\n",
    "                      encoding=\"ISO-8859-1\")"
   ]
  },
  {
   "cell_type": "markdown",
   "metadata": {},
   "source": [
    "# Tratamento dos dados"
   ]
  },
  {
   "cell_type": "code",
   "execution_count": 18,
   "metadata": {
    "ExecuteTime": {
     "end_time": "2021-02-10T15:44:47.679317Z",
     "start_time": "2021-02-10T15:44:47.664366Z"
    }
   },
   "outputs": [],
   "source": [
    "def transform(df):\n",
    "    df1 = df[['NR_TURNO', 'SG_PARTIDO', 'QT_VOTOS_NOMINAIS', 'QT_VOTOS_LEGENDA', 'DS_CARGO', 'SG_UF']]\n",
    "    df1 = df1.groupby(['SG_PARTIDO', 'DS_CARGO', 'SG_UF', 'NR_TURNO']).sum()\n",
    "    df1 = df1.reset_index(drop=False)\n",
    "    df1['ANO_ELEICAO'] = df['ANO_ELEICAO'].iloc[0]\n",
    "    return df1"
   ]
  },
  {
   "cell_type": "code",
   "execution_count": 19,
   "metadata": {
    "ExecuteTime": {
     "end_time": "2021-02-10T15:44:49.914155Z",
     "start_time": "2021-02-10T15:44:47.680327Z"
    }
   },
   "outputs": [
    {
     "data": {
      "text/html": [
       "<div>\n",
       "<style scoped>\n",
       "    .dataframe tbody tr th:only-of-type {\n",
       "        vertical-align: middle;\n",
       "    }\n",
       "\n",
       "    .dataframe tbody tr th {\n",
       "        vertical-align: top;\n",
       "    }\n",
       "\n",
       "    .dataframe thead th {\n",
       "        text-align: right;\n",
       "    }\n",
       "</style>\n",
       "<table border=\"1\" class=\"dataframe\">\n",
       "  <thead>\n",
       "    <tr style=\"text-align: right;\">\n",
       "      <th></th>\n",
       "      <th>SG_PARTIDO</th>\n",
       "      <th>DS_CARGO</th>\n",
       "      <th>SG_UF</th>\n",
       "      <th>NR_TURNO</th>\n",
       "      <th>QT_VOTOS_NOMINAIS</th>\n",
       "      <th>QT_VOTOS_LEGENDA</th>\n",
       "      <th>ANO_ELEICAO</th>\n",
       "    </tr>\n",
       "  </thead>\n",
       "  <tbody>\n",
       "    <tr>\n",
       "      <th>0</th>\n",
       "      <td>AVANTE</td>\n",
       "      <td>Prefeito</td>\n",
       "      <td>AC</td>\n",
       "      <td>1.0</td>\n",
       "      <td>2294.0</td>\n",
       "      <td>0.0</td>\n",
       "      <td>2020.0</td>\n",
       "    </tr>\n",
       "    <tr>\n",
       "      <th>1</th>\n",
       "      <td>AVANTE</td>\n",
       "      <td>Prefeito</td>\n",
       "      <td>AL</td>\n",
       "      <td>1.0</td>\n",
       "      <td>831.0</td>\n",
       "      <td>0.0</td>\n",
       "      <td>2020.0</td>\n",
       "    </tr>\n",
       "    <tr>\n",
       "      <th>2</th>\n",
       "      <td>AVANTE</td>\n",
       "      <td>Prefeito</td>\n",
       "      <td>AM</td>\n",
       "      <td>1.0</td>\n",
       "      <td>20107.0</td>\n",
       "      <td>0.0</td>\n",
       "      <td>2020.0</td>\n",
       "    </tr>\n",
       "    <tr>\n",
       "      <th>3</th>\n",
       "      <td>AVANTE</td>\n",
       "      <td>Prefeito</td>\n",
       "      <td>AM</td>\n",
       "      <td>2.0</td>\n",
       "      <td>466970.0</td>\n",
       "      <td>0.0</td>\n",
       "      <td>2020.0</td>\n",
       "    </tr>\n",
       "    <tr>\n",
       "      <th>4</th>\n",
       "      <td>AVANTE</td>\n",
       "      <td>Prefeito</td>\n",
       "      <td>AP</td>\n",
       "      <td>1.0</td>\n",
       "      <td>16521.0</td>\n",
       "      <td>0.0</td>\n",
       "      <td>2020.0</td>\n",
       "    </tr>\n",
       "    <tr>\n",
       "      <th>...</th>\n",
       "      <td>...</td>\n",
       "      <td>...</td>\n",
       "      <td>...</td>\n",
       "      <td>...</td>\n",
       "      <td>...</td>\n",
       "      <td>...</td>\n",
       "      <td>...</td>\n",
       "    </tr>\n",
       "    <tr>\n",
       "      <th>24090</th>\n",
       "      <td>PTdoB</td>\n",
       "      <td>GOVERNADOR</td>\n",
       "      <td>DF</td>\n",
       "      <td>1.0</td>\n",
       "      <td>4208.0</td>\n",
       "      <td>0.0</td>\n",
       "      <td>1990.0</td>\n",
       "    </tr>\n",
       "    <tr>\n",
       "      <th>24091</th>\n",
       "      <td>PTdoB</td>\n",
       "      <td>SENADOR</td>\n",
       "      <td>AP</td>\n",
       "      <td>1.0</td>\n",
       "      <td>3432.0</td>\n",
       "      <td>0.0</td>\n",
       "      <td>1990.0</td>\n",
       "    </tr>\n",
       "    <tr>\n",
       "      <th>24092</th>\n",
       "      <td>PTdoB</td>\n",
       "      <td>SENADOR</td>\n",
       "      <td>DF</td>\n",
       "      <td>1.0</td>\n",
       "      <td>3579.0</td>\n",
       "      <td>0.0</td>\n",
       "      <td>1990.0</td>\n",
       "    </tr>\n",
       "    <tr>\n",
       "      <th>24093</th>\n",
       "      <td>PTdoB</td>\n",
       "      <td>SENADOR</td>\n",
       "      <td>MG</td>\n",
       "      <td>1.0</td>\n",
       "      <td>297430.0</td>\n",
       "      <td>0.0</td>\n",
       "      <td>1990.0</td>\n",
       "    </tr>\n",
       "    <tr>\n",
       "      <th>24094</th>\n",
       "      <td>PTdoB</td>\n",
       "      <td>SENADOR</td>\n",
       "      <td>RJ</td>\n",
       "      <td>1.0</td>\n",
       "      <td>76198.0</td>\n",
       "      <td>0.0</td>\n",
       "      <td>1990.0</td>\n",
       "    </tr>\n",
       "  </tbody>\n",
       "</table>\n",
       "<p>24095 rows × 7 columns</p>\n",
       "</div>"
      ],
      "text/plain": [
       "      SG_PARTIDO    DS_CARGO SG_UF  NR_TURNO  QT_VOTOS_NOMINAIS  \\\n",
       "0         AVANTE    Prefeito    AC       1.0             2294.0   \n",
       "1         AVANTE    Prefeito    AL       1.0              831.0   \n",
       "2         AVANTE    Prefeito    AM       1.0            20107.0   \n",
       "3         AVANTE    Prefeito    AM       2.0           466970.0   \n",
       "4         AVANTE    Prefeito    AP       1.0            16521.0   \n",
       "...          ...         ...   ...       ...                ...   \n",
       "24090      PTdoB  GOVERNADOR    DF       1.0             4208.0   \n",
       "24091      PTdoB     SENADOR    AP       1.0             3432.0   \n",
       "24092      PTdoB     SENADOR    DF       1.0             3579.0   \n",
       "24093      PTdoB     SENADOR    MG       1.0           297430.0   \n",
       "24094      PTdoB     SENADOR    RJ       1.0            76198.0   \n",
       "\n",
       "       QT_VOTOS_LEGENDA  ANO_ELEICAO  \n",
       "0                   0.0       2020.0  \n",
       "1                   0.0       2020.0  \n",
       "2                   0.0       2020.0  \n",
       "3                   0.0       2020.0  \n",
       "4                   0.0       2020.0  \n",
       "...                 ...          ...  \n",
       "24090               0.0       1990.0  \n",
       "24091               0.0       1990.0  \n",
       "24092               0.0       1990.0  \n",
       "24093               0.0       1990.0  \n",
       "24094               0.0       1990.0  \n",
       "\n",
       "[24095 rows x 7 columns]"
      ]
     },
     "execution_count": 19,
     "metadata": {},
     "output_type": "execute_result"
    }
   ],
   "source": [
    "final = pd.concat([\n",
    "    transform(df_2020),\n",
    "    transform(df_2018),\n",
    "    transform(df_2016),\n",
    "    transform(df_2014),\n",
    "    transform(df_2012),\n",
    "    transform(df_2010),\n",
    "    transform(df_2008),\n",
    "    transform(df_2006),\n",
    "    transform(df_2004),\n",
    "    transform(df_2002),\n",
    "    transform(df_2000),\n",
    "    transform(df_1998),\n",
    "    transform(df_1996),\n",
    "    transform(df_1994),\n",
    "    transform(df_1990)\n",
    "],\n",
    "                  ignore_index=True)\n",
    "final"
   ]
  },
  {
   "cell_type": "code",
   "execution_count": 20,
   "metadata": {
    "ExecuteTime": {
     "end_time": "2021-02-10T15:44:49.929085Z",
     "start_time": "2021-02-10T15:44:49.915121Z"
    }
   },
   "outputs": [
    {
     "data": {
      "text/plain": [
       "SG_PARTIDO           0\n",
       "DS_CARGO             0\n",
       "SG_UF                0\n",
       "NR_TURNO             0\n",
       "QT_VOTOS_NOMINAIS    0\n",
       "QT_VOTOS_LEGENDA     0\n",
       "ANO_ELEICAO          0\n",
       "dtype: int64"
      ]
     },
     "execution_count": 20,
     "metadata": {},
     "output_type": "execute_result"
    }
   ],
   "source": [
    "final.isnull().sum()"
   ]
  },
  {
   "cell_type": "code",
   "execution_count": 21,
   "metadata": {
    "ExecuteTime": {
     "end_time": "2021-02-10T15:44:49.959333Z",
     "start_time": "2021-02-10T15:44:49.931078Z"
    }
   },
   "outputs": [],
   "source": [
    "final['DS_CARGO'] = final['DS_CARGO'].str.upper()"
   ]
  },
  {
   "cell_type": "code",
   "execution_count": 22,
   "metadata": {
    "ExecuteTime": {
     "end_time": "2021-02-10T15:44:49.974654Z",
     "start_time": "2021-02-10T15:44:49.960028Z"
    }
   },
   "outputs": [
    {
     "data": {
      "text/plain": [
       "DEPUTADO FEDERAL                                                                        4899\n",
       "VEREADOR                                                                                4843\n",
       "DEPUTADO ESTADUAL                                                                       4820\n",
       "PREFEITO                                                                                4399\n",
       "PRESIDENTE                                                                              2044\n",
       "SENADOR                                                                                 1483\n",
       "GOVERNADOR                                                                              1396\n",
       "DEPUTADO DISTRITAL                                                                       207\n",
       "VOCÊ É A FAVOR DA | ALTERAÇÃO DO NOME | DA CIDADE DE EMBU\" | PARA \"EMBU DAS ARTES\"?\"       2\n",
       "VOCÊ É A FAVOR | DA CRIAÇÃO DO MUNICÍPIO DE | EXTREMA DE RONDÔNIA?                         2\n",
       "Name: DS_CARGO, dtype: int64"
      ]
     },
     "execution_count": 22,
     "metadata": {},
     "output_type": "execute_result"
    }
   ],
   "source": [
    "final['DS_CARGO'].value_counts()"
   ]
  },
  {
   "cell_type": "code",
   "execution_count": 23,
   "metadata": {
    "ExecuteTime": {
     "end_time": "2021-02-10T15:44:49.990608Z",
     "start_time": "2021-02-10T15:44:49.978612Z"
    }
   },
   "outputs": [],
   "source": [
    "final['DS_CARGO'].replace(\n",
    "    'VOCÊ É A FAVOR DA | ALTERAÇÃO DO NOME | DA CIDADE DE EMBU\" | PARA \"EMBU DAS ARTES\"?\"',\n",
    "    np.nan,\n",
    "    inplace=True)\n",
    "final['DS_CARGO'].replace(\n",
    "    'VOCÊ É A FAVOR | DA CRIAÇÃO DO MUNICÍPIO DE | EXTREMA DE RONDÔNIA?',\n",
    "    np.nan,\n",
    "    inplace=True)\n",
    "final.dropna(inplace=True)\n",
    "final.reset_index(drop=True, inplace=True)"
   ]
  },
  {
   "cell_type": "code",
   "execution_count": 24,
   "metadata": {
    "ExecuteTime": {
     "end_time": "2021-02-10T15:44:50.021057Z",
     "start_time": "2021-02-10T15:44:49.993572Z"
    }
   },
   "outputs": [],
   "source": [
    "final['ANO_ELEICAO'] = final['ANO_ELEICAO'].astype(int)\n",
    "# Partidos que mudaram de nome:\n",
    "# https://pt.wikipedia.org/wiki/Predefini%C3%A7%C3%A3o:Partidos_pol%C3%ADticos_no_Brasil_que_mudaram_de_nome_ap%C3%B3s_a_crise_pol%C3%ADtica_de_2014\n",
    "final['SG_PARTIDO'] = final['SG_PARTIDO'].str.upper()\n",
    "final['SG_PARTIDO'] = final['SG_PARTIDO'].replace('PR', 'PL')\n",
    "final['SG_PARTIDO'] = final['SG_PARTIDO'].replace('PTN', 'PODE')\n",
    "final['SG_PARTIDO'] = final['SG_PARTIDO'].replace('PT DO B', 'AVANTE')\n",
    "final['SG_PARTIDO'] = final['SG_PARTIDO'].replace('PEN', 'PATRIOTA')\n",
    "final['SG_PARTIDO'] = final['SG_PARTIDO'].replace('PMDB', 'MDB')\n",
    "final['SG_PARTIDO'] = final['SG_PARTIDO'].replace('PSDC', 'DC')\n",
    "final['SG_PARTIDO'] = final['SG_PARTIDO'].replace('PRB', 'REPUBLICANOS')\n",
    "final['SG_PARTIDO'] = final['SG_PARTIDO'].replace('PPS', 'CIDADANIA')\n",
    "final['SG_PARTIDO'] = final['SG_PARTIDO'].replace('PFL', 'DEM')"
   ]
  },
  {
   "cell_type": "code",
   "execution_count": 25,
   "metadata": {
    "ExecuteTime": {
     "end_time": "2021-02-10T15:44:50.036192Z",
     "start_time": "2021-02-10T15:44:50.022002Z"
    }
   },
   "outputs": [],
   "source": [
    "final = final[final['SG_UF'] != 'BR']"
   ]
  },
  {
   "cell_type": "code",
   "execution_count": 26,
   "metadata": {
    "ExecuteTime": {
     "end_time": "2021-02-10T15:44:50.051908Z",
     "start_time": "2021-02-10T15:44:50.037188Z"
    }
   },
   "outputs": [
    {
     "name": "stderr",
     "output_type": "stream",
     "text": [
      "<ipython-input-26-bcada6c5b945>:3: SettingWithCopyWarning: \n",
      "A value is trying to be set on a copy of a slice from a DataFrame.\n",
      "Try using .loc[row_indexer,col_indexer] = value instead\n",
      "\n",
      "See the caveats in the documentation: https://pandas.pydata.org/pandas-docs/stable/user_guide/indexing.html#returning-a-view-versus-a-copy\n",
      "  final[column] = final[column].astype(int)\n"
     ]
    }
   ],
   "source": [
    "for column in final.columns:\n",
    "    if final[column].dtype == 'float64':\n",
    "        final[column] = final[column].astype(int)"
   ]
  },
  {
   "cell_type": "code",
   "execution_count": 27,
   "metadata": {
    "ExecuteTime": {
     "end_time": "2021-02-10T15:44:50.067868Z",
     "start_time": "2021-02-10T15:44:50.052908Z"
    }
   },
   "outputs": [
    {
     "data": {
      "text/html": [
       "<div>\n",
       "<style scoped>\n",
       "    .dataframe tbody tr th:only-of-type {\n",
       "        vertical-align: middle;\n",
       "    }\n",
       "\n",
       "    .dataframe tbody tr th {\n",
       "        vertical-align: top;\n",
       "    }\n",
       "\n",
       "    .dataframe thead th {\n",
       "        text-align: right;\n",
       "    }\n",
       "</style>\n",
       "<table border=\"1\" class=\"dataframe\">\n",
       "  <thead>\n",
       "    <tr style=\"text-align: right;\">\n",
       "      <th></th>\n",
       "      <th>SG_PARTIDO</th>\n",
       "      <th>DS_CARGO</th>\n",
       "      <th>SG_UF</th>\n",
       "      <th>NR_TURNO</th>\n",
       "      <th>QT_VOTOS_NOMINAIS</th>\n",
       "      <th>QT_VOTOS_LEGENDA</th>\n",
       "      <th>ANO_ELEICAO</th>\n",
       "    </tr>\n",
       "  </thead>\n",
       "  <tbody>\n",
       "    <tr>\n",
       "      <th>0</th>\n",
       "      <td>AVANTE</td>\n",
       "      <td>PREFEITO</td>\n",
       "      <td>AC</td>\n",
       "      <td>1</td>\n",
       "      <td>2294</td>\n",
       "      <td>0</td>\n",
       "      <td>2020</td>\n",
       "    </tr>\n",
       "    <tr>\n",
       "      <th>1</th>\n",
       "      <td>AVANTE</td>\n",
       "      <td>PREFEITO</td>\n",
       "      <td>AL</td>\n",
       "      <td>1</td>\n",
       "      <td>831</td>\n",
       "      <td>0</td>\n",
       "      <td>2020</td>\n",
       "    </tr>\n",
       "    <tr>\n",
       "      <th>2</th>\n",
       "      <td>AVANTE</td>\n",
       "      <td>PREFEITO</td>\n",
       "      <td>AM</td>\n",
       "      <td>1</td>\n",
       "      <td>20107</td>\n",
       "      <td>0</td>\n",
       "      <td>2020</td>\n",
       "    </tr>\n",
       "    <tr>\n",
       "      <th>3</th>\n",
       "      <td>AVANTE</td>\n",
       "      <td>PREFEITO</td>\n",
       "      <td>AM</td>\n",
       "      <td>2</td>\n",
       "      <td>466970</td>\n",
       "      <td>0</td>\n",
       "      <td>2020</td>\n",
       "    </tr>\n",
       "    <tr>\n",
       "      <th>4</th>\n",
       "      <td>AVANTE</td>\n",
       "      <td>PREFEITO</td>\n",
       "      <td>AP</td>\n",
       "      <td>1</td>\n",
       "      <td>16521</td>\n",
       "      <td>0</td>\n",
       "      <td>2020</td>\n",
       "    </tr>\n",
       "    <tr>\n",
       "      <th>...</th>\n",
       "      <td>...</td>\n",
       "      <td>...</td>\n",
       "      <td>...</td>\n",
       "      <td>...</td>\n",
       "      <td>...</td>\n",
       "      <td>...</td>\n",
       "      <td>...</td>\n",
       "    </tr>\n",
       "    <tr>\n",
       "      <th>24077</th>\n",
       "      <td>PTDOB</td>\n",
       "      <td>GOVERNADOR</td>\n",
       "      <td>DF</td>\n",
       "      <td>1</td>\n",
       "      <td>4208</td>\n",
       "      <td>0</td>\n",
       "      <td>1990</td>\n",
       "    </tr>\n",
       "    <tr>\n",
       "      <th>24078</th>\n",
       "      <td>PTDOB</td>\n",
       "      <td>SENADOR</td>\n",
       "      <td>AP</td>\n",
       "      <td>1</td>\n",
       "      <td>3432</td>\n",
       "      <td>0</td>\n",
       "      <td>1990</td>\n",
       "    </tr>\n",
       "    <tr>\n",
       "      <th>24079</th>\n",
       "      <td>PTDOB</td>\n",
       "      <td>SENADOR</td>\n",
       "      <td>DF</td>\n",
       "      <td>1</td>\n",
       "      <td>3579</td>\n",
       "      <td>0</td>\n",
       "      <td>1990</td>\n",
       "    </tr>\n",
       "    <tr>\n",
       "      <th>24080</th>\n",
       "      <td>PTDOB</td>\n",
       "      <td>SENADOR</td>\n",
       "      <td>MG</td>\n",
       "      <td>1</td>\n",
       "      <td>297430</td>\n",
       "      <td>0</td>\n",
       "      <td>1990</td>\n",
       "    </tr>\n",
       "    <tr>\n",
       "      <th>24081</th>\n",
       "      <td>PTDOB</td>\n",
       "      <td>SENADOR</td>\n",
       "      <td>RJ</td>\n",
       "      <td>1</td>\n",
       "      <td>76198</td>\n",
       "      <td>0</td>\n",
       "      <td>1990</td>\n",
       "    </tr>\n",
       "  </tbody>\n",
       "</table>\n",
       "<p>24082 rows × 7 columns</p>\n",
       "</div>"
      ],
      "text/plain": [
       "      SG_PARTIDO    DS_CARGO SG_UF  NR_TURNO  QT_VOTOS_NOMINAIS  \\\n",
       "0         AVANTE    PREFEITO    AC         1               2294   \n",
       "1         AVANTE    PREFEITO    AL         1                831   \n",
       "2         AVANTE    PREFEITO    AM         1              20107   \n",
       "3         AVANTE    PREFEITO    AM         2             466970   \n",
       "4         AVANTE    PREFEITO    AP         1              16521   \n",
       "...          ...         ...   ...       ...                ...   \n",
       "24077      PTDOB  GOVERNADOR    DF         1               4208   \n",
       "24078      PTDOB     SENADOR    AP         1               3432   \n",
       "24079      PTDOB     SENADOR    DF         1               3579   \n",
       "24080      PTDOB     SENADOR    MG         1             297430   \n",
       "24081      PTDOB     SENADOR    RJ         1              76198   \n",
       "\n",
       "       QT_VOTOS_LEGENDA  ANO_ELEICAO  \n",
       "0                     0         2020  \n",
       "1                     0         2020  \n",
       "2                     0         2020  \n",
       "3                     0         2020  \n",
       "4                     0         2020  \n",
       "...                 ...          ...  \n",
       "24077                 0         1990  \n",
       "24078                 0         1990  \n",
       "24079                 0         1990  \n",
       "24080                 0         1990  \n",
       "24081                 0         1990  \n",
       "\n",
       "[24082 rows x 7 columns]"
      ]
     },
     "execution_count": 27,
     "metadata": {},
     "output_type": "execute_result"
    }
   ],
   "source": [
    "final.reset_index(drop=True, inplace=True)\n",
    "final"
   ]
  },
  {
   "cell_type": "code",
   "execution_count": 28,
   "metadata": {
    "ExecuteTime": {
     "end_time": "2021-02-10T15:44:50.130771Z",
     "start_time": "2021-02-10T15:44:50.068890Z"
    }
   },
   "outputs": [],
   "source": [
    "final.to_csv('exports/partidos.csv', sep=';', decimal=',', index=False)"
   ]
  }
 ],
 "metadata": {
  "kernelspec": {
   "display_name": "Python 3",
   "language": "python",
   "name": "python3"
  },
  "language_info": {
   "codemirror_mode": {
    "name": "ipython",
    "version": 3
   },
   "file_extension": ".py",
   "mimetype": "text/x-python",
   "name": "python",
   "nbconvert_exporter": "python",
   "pygments_lexer": "ipython3",
   "version": "3.8.3"
  },
  "varInspector": {
   "cols": {
    "lenName": 16,
    "lenType": 16,
    "lenVar": 40
   },
   "kernels_config": {
    "python": {
     "delete_cmd_postfix": "",
     "delete_cmd_prefix": "del ",
     "library": "var_list.py",
     "varRefreshCmd": "print(var_dic_list())"
    },
    "r": {
     "delete_cmd_postfix": ") ",
     "delete_cmd_prefix": "rm(",
     "library": "var_list.r",
     "varRefreshCmd": "cat(var_dic_list()) "
    }
   },
   "types_to_exclude": [
    "module",
    "function",
    "builtin_function_or_method",
    "instance",
    "_Feature"
   ],
   "window_display": false
  }
 },
 "nbformat": 4,
 "nbformat_minor": 4
}
