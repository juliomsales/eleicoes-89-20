{
 "cells": [
  {
   "cell_type": "markdown",
   "metadata": {},
   "source": [
    "Dados extraídos de: https://www.tse.jus.br/eleicoes/estatisticas/repositorio-de-dados-eleitorais-1/repositorio-de-dados-eleitorais\n",
    "\n",
    "Acesso em: 10/12/2020."
   ]
  },
  {
   "cell_type": "markdown",
   "metadata": {
    "heading_collapsed": true
   },
   "source": [
    "# Bibliotecas e configurações iniciais"
   ]
  },
  {
   "cell_type": "code",
   "execution_count": 1,
   "metadata": {
    "ExecuteTime": {
     "end_time": "2021-02-10T15:36:30.897409Z",
     "start_time": "2021-02-10T15:36:30.000418Z"
    },
    "hidden": true
   },
   "outputs": [],
   "source": [
    "import pandas as pd\n",
    "import numpy as np\n",
    "from tqdm import tqdm\n",
    "\n",
    "pd.options.display.float_format = '{:.2f}'.format\n",
    "pd.set_option('display.max_columns', None)"
   ]
  },
  {
   "cell_type": "markdown",
   "metadata": {},
   "source": [
    "# Importando Dados"
   ]
  },
  {
   "cell_type": "markdown",
   "metadata": {
    "heading_collapsed": true
   },
   "source": [
    "## Colunas"
   ]
  },
  {
   "cell_type": "code",
   "execution_count": 2,
   "metadata": {
    "ExecuteTime": {
     "end_time": "2021-02-10T15:36:30.913420Z",
     "start_time": "2021-02-10T15:36:30.898408Z"
    },
    "hidden": true
   },
   "outputs": [],
   "source": [
    "colunasFederal1 = [\n",
    "    'DT_GERACAO', 'HH_GERACAO', 'ANO_ELEICAO', 'NR_TURNO', 'DS_ELEICAO',\n",
    "    'SG_UF', 'NM_MUNICIPIO', 'NUM1', 'NR_CANDIDATO', 'NUM3', 'NM_CANDIDATO',\n",
    "    'NM_URNA_CANDIDATO', 'DS_CARGO', 'NUM4', 'UNIND', 'NUM5',\n",
    "    'DS_DETALHE_SITUACAO_CAND', 'NUM6', 'DS_SIT_TOT_TURNO', 'NR_PARTIDO',\n",
    "    'SG_PARTIDO', 'NM_PARTIDO', 'NUM7', 'NM_COLIGACAO',\n",
    "    'DS_COMPOSICAO_COLIGACAO', 'QT_VOTOS_NOMINAIS'\n",
    "]\n",
    "\n",
    "colunasFederal2 = [\n",
    "    'DT_GERACAO', 'HH_GERACAO', 'ANO_ELEICAO', 'NR_TURNO', 'DS_ELEICAO',\n",
    "    'SG_UF', 'NUM1', 'CD_MUNICIPIO', 'NM_MUNICIPIO', 'NUM3', 'NUM4', 'NR_CANDIDATO', 'NUM6',\n",
    "    'NM_CANDIDATO', 'NM_URNA_CANDIDATO', 'DS_CARGO', 'NUM7', 'UNIND', 'NUM8',\n",
    "    'DS_DETALHE_SITUACAO_CAND', 'NUM10', 'DS_SIT_TOT_TURNO', 'NR_PARTIDO', 'SG_PARTIDO',\n",
    "    'NM_PARTIDO', 'NUM11', 'NM_COLIGACAO', 'DS_COMPOSICAO_COLIGACAO',\n",
    "    'QT_VOTOS_NOMINAIS'\n",
    "]"
   ]
  },
  {
   "cell_type": "markdown",
   "metadata": {
    "heading_collapsed": true
   },
   "source": [
    "## 1989 - Federal"
   ]
  },
  {
   "cell_type": "code",
   "execution_count": 3,
   "metadata": {
    "ExecuteTime": {
     "end_time": "2021-02-10T15:36:30.944348Z",
     "start_time": "2021-02-10T15:36:30.915397Z"
    },
    "hidden": true
   },
   "outputs": [],
   "source": [
    "df_1989 = pd.read_csv('dados_nominal/VOTACAO_CANDIDATO_UF_1989.txt',\n",
    "                      sep=';',\n",
    "                      encoding='ISO-8859-1',\n",
    "                      header=None,\n",
    "                      names=colunasFederal1)"
   ]
  },
  {
   "cell_type": "markdown",
   "metadata": {
    "heading_collapsed": true
   },
   "source": [
    "## 1990 - Estadual e Municipal"
   ]
  },
  {
   "cell_type": "code",
   "execution_count": 4,
   "metadata": {
    "ExecuteTime": {
     "end_time": "2021-02-10T15:36:31.353350Z",
     "start_time": "2021-02-10T15:36:30.945979Z"
    },
    "hidden": true
   },
   "outputs": [],
   "source": [
    "datasets = [\n",
    "    'VOTACAO_CANDIDATO_UF_1990_AL.txt', 'VOTACAO_CANDIDATO_UF_1990_AM.txt',\n",
    "    'VOTACAO_CANDIDATO_UF_1990_AP.txt', 'VOTACAO_CANDIDATO_UF_1990_BA.txt',\n",
    "    'VOTACAO_CANDIDATO_UF_1990_CE.txt', 'VOTACAO_CANDIDATO_UF_1990_DF.txt',\n",
    "    'VOTACAO_CANDIDATO_UF_1990_ES.txt', 'VOTACAO_CANDIDATO_UF_1990_GO.txt',\n",
    "    'VOTACAO_CANDIDATO_UF_1990_MA.txt', 'VOTACAO_CANDIDATO_UF_1990_MG.txt',\n",
    "    'VOTACAO_CANDIDATO_UF_1990_MS.txt', 'VOTACAO_CANDIDATO_UF_1990_MT.txt',\n",
    "    'VOTACAO_CANDIDATO_UF_1990_PA.txt', 'VOTACAO_CANDIDATO_UF_1990_PB.txt',\n",
    "    'VOTACAO_CANDIDATO_UF_1990_PE.txt', 'VOTACAO_CANDIDATO_UF_1990_PI.txt',\n",
    "    'VOTACAO_CANDIDATO_UF_1990_PR.txt', 'VOTACAO_CANDIDATO_UF_1990_RJ.txt',\n",
    "    'VOTACAO_CANDIDATO_UF_1990_RN.txt', 'VOTACAO_CANDIDATO_UF_1990_RO.txt',\n",
    "    'VOTACAO_CANDIDATO_UF_1990_RR.txt', 'VOTACAO_CANDIDATO_UF_1990_RS.txt',\n",
    "    'VOTACAO_CANDIDATO_UF_1990_SC.txt', 'VOTACAO_CANDIDATO_UF_1990_SE.txt',\n",
    "    'VOTACAO_CANDIDATO_UF_1990_SP.txt', 'VOTACAO_CANDIDATO_UF_1990_TO.txt'\n",
    "]\n",
    "\n",
    "df_1990 = pd.read_csv('dados_nominal/VOTACAO_CANDIDATO_UF_1990_AC.txt',\n",
    "                      error_bad_lines=False,\n",
    "                      header=None,\n",
    "                      sep=';',\n",
    "                      encoding=\"ISO-8859-1\",\n",
    "                      names=colunasFederal1)\n",
    "for data in datasets:\n",
    "    df = pd.read_csv('dados_nominal/' + data,\n",
    "                     error_bad_lines=False,\n",
    "                     header=None,\n",
    "                     sep=';',\n",
    "                     encoding=\"ISO-8859-1\",\n",
    "                     names=colunasFederal1)\n",
    "    df_1990 = pd.concat([df_1990, df])"
   ]
  },
  {
   "cell_type": "markdown",
   "metadata": {
    "heading_collapsed": true
   },
   "source": [
    "## 1994 - Federal/Estadual"
   ]
  },
  {
   "cell_type": "code",
   "execution_count": 5,
   "metadata": {
    "ExecuteTime": {
     "end_time": "2021-02-10T15:36:36.567012Z",
     "start_time": "2021-02-10T15:36:31.354342Z"
    },
    "hidden": true
   },
   "outputs": [],
   "source": [
    "datasets = [\n",
    "    'votacao_candidato_munzona_1994_AL.txt',\n",
    "    'votacao_candidato_munzona_1994_AM.txt',\n",
    "    'votacao_candidato_munzona_1994_AP.txt',\n",
    "    'votacao_candidato_munzona_1994_BA.txt',\n",
    "    'votacao_candidato_munzona_1994_BR.txt',\n",
    "    'votacao_candidato_munzona_1994_GO.txt',\n",
    "    'votacao_candidato_munzona_1994_MA.txt',\n",
    "    'votacao_candidato_munzona_1994_MS.txt',\n",
    "    'votacao_candidato_munzona_1994_PI.txt',\n",
    "    'votacao_candidato_munzona_1994_RR.txt',\n",
    "    'votacao_candidato_munzona_1994_RS.txt',\n",
    "    'votacao_candidato_munzona_1994_SC.txt',\n",
    "    'votacao_candidato_munzona_1994_SE.txt',\n",
    "    'votacao_candidato_munzona_1994_SP.txt',\n",
    "    'votacao_candidato_munzona_1994_TO.txt'\n",
    "]\n",
    "\n",
    "df_1994 = pd.read_csv('dados_nominal/votacao_candidato_munzona_1994_AC.txt',\n",
    "                      error_bad_lines=False,\n",
    "                      header=None,\n",
    "                      sep=';',\n",
    "                      encoding=\"ISO-8859-1\",\n",
    "                      names=colunasFederal2)\n",
    "for data in datasets:\n",
    "    df = pd.read_csv('dados_nominal/'+data,\n",
    "                     error_bad_lines=False,\n",
    "                     header=None,\n",
    "                     sep=';',\n",
    "                     encoding=\"ISO-8859-1\",\n",
    "                     names=colunasFederal2)\n",
    "    df_1994 = pd.concat([df_1994, df])"
   ]
  },
  {
   "cell_type": "markdown",
   "metadata": {
    "heading_collapsed": true
   },
   "source": [
    "## 1996 - Municipal"
   ]
  },
  {
   "cell_type": "code",
   "execution_count": 6,
   "metadata": {
    "ExecuteTime": {
     "end_time": "2021-02-10T15:36:37.501932Z",
     "start_time": "2021-02-10T15:36:36.569008Z"
    },
    "hidden": true
   },
   "outputs": [],
   "source": [
    "datasets = [\n",
    "    'votacao_candidato_munzona_1996_AL.txt',\n",
    "    'votacao_candidato_munzona_1996_AM.txt',\n",
    "    'votacao_candidato_munzona_1996_AP.txt',\n",
    "    'votacao_candidato_munzona_1996_BA.txt',\n",
    "    'votacao_candidato_munzona_1996_CE.txt',\n",
    "    'votacao_candidato_munzona_1996_ES.txt',\n",
    "    'votacao_candidato_munzona_1996_GO.txt',\n",
    "    'votacao_candidato_munzona_1996_MA.txt',\n",
    "    'votacao_candidato_munzona_1996_MG.txt',\n",
    "    'votacao_candidato_munzona_1996_MS.txt',\n",
    "    'votacao_candidato_munzona_1996_PA.txt',\n",
    "    'votacao_candidato_munzona_1996_PB.txt',\n",
    "    'votacao_candidato_munzona_1996_PE.txt',\n",
    "    'votacao_candidato_munzona_1996_PI.txt',\n",
    "    'votacao_candidato_munzona_1996_RN.txt',\n",
    "    'votacao_candidato_munzona_1996_RO.txt',\n",
    "    'votacao_candidato_munzona_1996_RR.txt',\n",
    "    'votacao_candidato_munzona_1996_RS.txt',\n",
    "    'votacao_candidato_munzona_1996_SE.txt',\n",
    "    'votacao_candidato_munzona_1996_SP.txt',\n",
    "    'votacao_candidato_munzona_1996_TO.txt'\n",
    "]\n",
    "\n",
    "df_1996 = pd.read_csv('dados_nominal/votacao_candidato_munzona_1996_AC.txt',\n",
    "                      error_bad_lines=False,\n",
    "                      header=None,\n",
    "                      sep=';',\n",
    "                      encoding=\"ISO-8859-1\",\n",
    "                      names=colunasFederal2)\n",
    "for data in datasets:\n",
    "    df = pd.read_csv('dados_nominal/'+data,\n",
    "                     error_bad_lines=False,\n",
    "                     header=None,\n",
    "                     sep=';',\n",
    "                     encoding=\"ISO-8859-1\",\n",
    "                     names=colunasFederal2)\n",
    "    df_1996 = pd.concat([df_1996, df])"
   ]
  },
  {
   "cell_type": "markdown",
   "metadata": {
    "heading_collapsed": true
   },
   "source": [
    "## 1998 - Federal/Estadual"
   ]
  },
  {
   "cell_type": "code",
   "execution_count": 7,
   "metadata": {
    "ExecuteTime": {
     "end_time": "2021-02-10T15:36:54.975029Z",
     "start_time": "2021-02-10T15:36:37.502846Z"
    },
    "hidden": true
   },
   "outputs": [
    {
     "name": "stderr",
     "output_type": "stream",
     "text": [
      "C:\\Users\\julio\\anaconda3\\lib\\site-packages\\IPython\\core\\interactiveshell.py:3071: DtypeWarning: Columns (8) have mixed types.Specify dtype option on import or set low_memory=False.\n",
      "  has_raised = await self.run_ast_nodes(code_ast.body, cell_name,\n"
     ]
    }
   ],
   "source": [
    "datasets = [\n",
    "    'votacao_candidato_munzona_1998_AL.txt',\n",
    "    'votacao_candidato_munzona_1998_AM.txt',\n",
    "    'votacao_candidato_munzona_1998_AP.txt',\n",
    "    'votacao_candidato_munzona_1998_BA.txt',\n",
    "    'votacao_candidato_munzona_1998_BR.txt',\n",
    "    'votacao_candidato_munzona_1998_CE.txt',\n",
    "    'votacao_candidato_munzona_1998_DF.txt',\n",
    "    'votacao_candidato_munzona_1998_ES.txt',\n",
    "    'votacao_candidato_munzona_1998_GO.txt',\n",
    "    'votacao_candidato_munzona_1998_MA.txt',\n",
    "    'votacao_candidato_munzona_1998_MG.txt',\n",
    "    'votacao_candidato_munzona_1998_MS.txt',\n",
    "    'votacao_candidato_munzona_1998_MT.txt',\n",
    "    'votacao_candidato_munzona_1998_PA.txt',\n",
    "    'votacao_candidato_munzona_1998_PB.txt',\n",
    "    'votacao_candidato_munzona_1998_PE.txt',\n",
    "    'votacao_candidato_munzona_1998_PI.txt',\n",
    "    'votacao_candidato_munzona_1998_PR.txt',\n",
    "    'votacao_candidato_munzona_1998_RJ.txt',\n",
    "    'votacao_candidato_munzona_1998_RN.txt',\n",
    "    'votacao_candidato_munzona_1998_RO.txt',\n",
    "    'votacao_candidato_munzona_1998_RR.txt',\n",
    "    'votacao_candidato_munzona_1998_RS.txt',\n",
    "    'votacao_candidato_munzona_1998_SC.txt',\n",
    "    'votacao_candidato_munzona_1998_SE.txt',\n",
    "    'votacao_candidato_munzona_1998_SP.txt',\n",
    "    'votacao_candidato_munzona_1998_TO.txt',\n",
    "    'votacao_candidato_munzona_1998_ZZ.txt'\n",
    "]\n",
    "\n",
    "df_1998 = pd.read_csv('dados_nominal/votacao_candidato_munzona_1998_AC.txt',\n",
    "                      error_bad_lines=False,\n",
    "                      header=None,\n",
    "                      sep=';',\n",
    "                      encoding=\"ISO-8859-1\",\n",
    "                      names=colunasFederal2)\n",
    "for data in datasets:\n",
    "    df = pd.read_csv('dados_nominal/'+data,\n",
    "                     error_bad_lines=False,\n",
    "                     header=None,\n",
    "                     sep=';',\n",
    "                     encoding=\"ISO-8859-1\",\n",
    "                     names=colunasFederal2)\n",
    "    df_1998 = pd.concat([df_1998, df])"
   ]
  },
  {
   "cell_type": "markdown",
   "metadata": {
    "heading_collapsed": true
   },
   "source": [
    "## 2000 - Municipal"
   ]
  },
  {
   "cell_type": "code",
   "execution_count": 8,
   "metadata": {
    "ExecuteTime": {
     "end_time": "2021-02-10T15:37:01.453510Z",
     "start_time": "2021-02-10T15:36:54.977987Z"
    },
    "hidden": true
   },
   "outputs": [
    {
     "name": "stderr",
     "output_type": "stream",
     "text": [
      "C:\\Users\\julio\\anaconda3\\lib\\site-packages\\IPython\\core\\interactiveshell.py:3071: DtypeWarning: Columns (6) have mixed types.Specify dtype option on import or set low_memory=False.\n",
      "  has_raised = await self.run_ast_nodes(code_ast.body, cell_name,\n"
     ]
    }
   ],
   "source": [
    "datasets = [\n",
    "    'votacao_candidato_munzona_2000_AL.txt',\n",
    "    'votacao_candidato_munzona_2000_AM.txt',\n",
    "    'votacao_candidato_munzona_2000_AP.txt',\n",
    "    'votacao_candidato_munzona_2000_BA.txt',\n",
    "    'votacao_candidato_munzona_2000_CE.txt',\n",
    "    'votacao_candidato_munzona_2000_ES.txt',\n",
    "    'votacao_candidato_munzona_2000_GO.txt',\n",
    "    'votacao_candidato_munzona_2000_MA.txt',\n",
    "    'votacao_candidato_munzona_2000_MG.txt',\n",
    "    'votacao_candidato_munzona_2000_MS.txt',\n",
    "    'votacao_candidato_munzona_2000_MT.txt',\n",
    "    'votacao_candidato_munzona_2000_PA.txt',\n",
    "    'votacao_candidato_munzona_2000_PB.txt',\n",
    "    'votacao_candidato_munzona_2000_PE.txt',\n",
    "    'votacao_candidato_munzona_2000_PI.txt',\n",
    "    'votacao_candidato_munzona_2000_PR.txt',\n",
    "    'votacao_candidato_munzona_2000_RJ.txt',\n",
    "    'votacao_candidato_munzona_2000_RN.txt',\n",
    "    'votacao_candidato_munzona_2000_RO.txt',\n",
    "    'votacao_candidato_munzona_2000_RR.txt',\n",
    "    'votacao_candidato_munzona_2000_RS.txt',\n",
    "    'votacao_candidato_munzona_2000_SC.txt',\n",
    "    'votacao_candidato_munzona_2000_SE.txt',\n",
    "    'votacao_candidato_munzona_2000_SP.txt',\n",
    "    'votacao_candidato_munzona_2000_TO.txt'\n",
    "]\n",
    "\n",
    "df_2000 = pd.read_csv('dados_nominal/votacao_candidato_munzona_2000_AC.txt',\n",
    "                      error_bad_lines=False,\n",
    "                      header=None,\n",
    "                      sep=';',\n",
    "                      encoding=\"ISO-8859-1\",\n",
    "                      names=colunasFederal2)\n",
    "for data in datasets:\n",
    "    df = pd.read_csv('dados_nominal/'+data,\n",
    "                     error_bad_lines=False,\n",
    "                     header=None,\n",
    "                     sep=';',\n",
    "                     encoding=\"ISO-8859-1\",\n",
    "                     names=colunasFederal2)\n",
    "    df_2000 = pd.concat([df_2000, df])"
   ]
  },
  {
   "cell_type": "markdown",
   "metadata": {
    "heading_collapsed": true
   },
   "source": [
    "## 2002 - Federal/Estadual"
   ]
  },
  {
   "cell_type": "code",
   "execution_count": 9,
   "metadata": {
    "ExecuteTime": {
     "end_time": "2021-02-10T15:37:18.758567Z",
     "start_time": "2021-02-10T15:37:01.455505Z"
    },
    "hidden": true
   },
   "outputs": [],
   "source": [
    "datasets = [\n",
    "    'votacao_candidato_munzona_2002_AL.txt',\n",
    "    'votacao_candidato_munzona_2002_AM.txt',\n",
    "    'votacao_candidato_munzona_2002_AP.txt',\n",
    "    'votacao_candidato_munzona_2002_BA.txt',\n",
    "    'votacao_candidato_munzona_2002_BR.txt',\n",
    "    'votacao_candidato_munzona_2002_CE.txt',\n",
    "    'votacao_candidato_munzona_2002_DF.txt',\n",
    "    'votacao_candidato_munzona_2002_ES.txt',\n",
    "    'votacao_candidato_munzona_2002_GO.txt',\n",
    "    'votacao_candidato_munzona_2002_MA.txt',\n",
    "    'votacao_candidato_munzona_2002_MG.txt',\n",
    "    'votacao_candidato_munzona_2002_MS.txt',\n",
    "    'votacao_candidato_munzona_2002_MT.txt',\n",
    "    'votacao_candidato_munzona_2002_PA.txt',\n",
    "    'votacao_candidato_munzona_2002_PB.txt',\n",
    "    'votacao_candidato_munzona_2002_PE.txt',\n",
    "    'votacao_candidato_munzona_2002_PI.txt',\n",
    "    'votacao_candidato_munzona_2002_PR.txt',\n",
    "    'votacao_candidato_munzona_2002_RJ.txt',\n",
    "    'votacao_candidato_munzona_2002_RN.txt',\n",
    "    'votacao_candidato_munzona_2002_RO.txt',\n",
    "    'votacao_candidato_munzona_2002_RR.txt',\n",
    "    'votacao_candidato_munzona_2002_RS.txt',\n",
    "    'votacao_candidato_munzona_2002_SC.txt',\n",
    "    'votacao_candidato_munzona_2002_SE.txt',\n",
    "    'votacao_candidato_munzona_2002_SP.txt',\n",
    "    'votacao_candidato_munzona_2002_TO.txt',\n",
    "    'votacao_candidato_munzona_2002_ZZ.txt'\n",
    "]\n",
    "\n",
    "df_2002 = pd.read_csv('dados_nominal/votacao_candidato_munzona_2002_AC.txt',\n",
    "                      error_bad_lines=False,\n",
    "                      header=None,\n",
    "                      sep=';',\n",
    "                      encoding=\"ISO-8859-1\",\n",
    "                      names=colunasFederal2)\n",
    "for data in datasets:\n",
    "    df = pd.read_csv('dados_nominal/'+data,\n",
    "                     error_bad_lines=False,\n",
    "                     header=None,\n",
    "                     sep=';',\n",
    "                     encoding=\"ISO-8859-1\",\n",
    "                     names=colunasFederal2)\n",
    "    df_2002 = pd.concat([df_2002, df])"
   ]
  },
  {
   "cell_type": "markdown",
   "metadata": {
    "heading_collapsed": true
   },
   "source": [
    "## 2004 - Municipal"
   ]
  },
  {
   "cell_type": "code",
   "execution_count": 10,
   "metadata": {
    "ExecuteTime": {
     "end_time": "2021-02-10T15:37:24.790038Z",
     "start_time": "2021-02-10T15:37:18.760528Z"
    },
    "hidden": true
   },
   "outputs": [],
   "source": [
    "datasets = [\n",
    "    'votacao_candidato_munzona_2004_AL.txt',\n",
    "    'votacao_candidato_munzona_2004_AM.txt',\n",
    "    'votacao_candidato_munzona_2004_AP.txt',\n",
    "    'votacao_candidato_munzona_2004_BA.txt',\n",
    "    'votacao_candidato_munzona_2004_CE.txt',\n",
    "    'votacao_candidato_munzona_2004_ES.txt',\n",
    "    'votacao_candidato_munzona_2004_GO.txt',\n",
    "    'votacao_candidato_munzona_2004_MA.txt',\n",
    "    'votacao_candidato_munzona_2004_MG.txt',\n",
    "    'votacao_candidato_munzona_2004_MS.txt',\n",
    "    'votacao_candidato_munzona_2004_MT.txt',\n",
    "    'votacao_candidato_munzona_2004_PA.txt',\n",
    "    'votacao_candidato_munzona_2004_PB.txt',\n",
    "    'votacao_candidato_munzona_2004_PE.txt',\n",
    "    'votacao_candidato_munzona_2004_PI.txt',\n",
    "    'votacao_candidato_munzona_2004_PR.txt',\n",
    "    'votacao_candidato_munzona_2004_RJ.txt',\n",
    "    'votacao_candidato_munzona_2004_RN.txt',\n",
    "    'votacao_candidato_munzona_2004_RO.txt',\n",
    "    'votacao_candidato_munzona_2004_RR.txt',\n",
    "    'votacao_candidato_munzona_2004_RS.txt',\n",
    "    'votacao_candidato_munzona_2004_SC.txt',\n",
    "    'votacao_candidato_munzona_2004_SE.txt',\n",
    "    'votacao_candidato_munzona_2004_SP.txt',\n",
    "    'votacao_candidato_munzona_2004_TO.txt'\n",
    "]\n",
    "\n",
    "df_2004 = pd.read_csv('dados_nominal/votacao_candidato_munzona_2004_AC.txt',\n",
    "                      error_bad_lines=False,\n",
    "                      header=None,\n",
    "                      sep=';',\n",
    "                      encoding=\"ISO-8859-1\",\n",
    "                      names=colunasFederal2)\n",
    "for data in datasets:\n",
    "    df = pd.read_csv('dados_nominal/'+data,\n",
    "                     error_bad_lines=False,\n",
    "                     header=None,\n",
    "                     sep=';',\n",
    "                     encoding=\"ISO-8859-1\",\n",
    "                     names=colunasFederal2)\n",
    "    df_2004 = pd.concat([df_2004, df])"
   ]
  },
  {
   "cell_type": "markdown",
   "metadata": {
    "heading_collapsed": true
   },
   "source": [
    "## 2006 - Estadual/Federal"
   ]
  },
  {
   "cell_type": "code",
   "execution_count": 11,
   "metadata": {
    "ExecuteTime": {
     "end_time": "2021-02-10T15:37:44.246832Z",
     "start_time": "2021-02-10T15:37:24.790951Z"
    },
    "hidden": true
   },
   "outputs": [],
   "source": [
    "datasets = [\n",
    "    'votacao_candidato_munzona_2006_AL.txt',\n",
    "    'votacao_candidato_munzona_2006_AM.txt',\n",
    "    'votacao_candidato_munzona_2006_AP.txt',\n",
    "    'votacao_candidato_munzona_2006_BA.txt',\n",
    "    'votacao_candidato_munzona_2006_BR.txt',\n",
    "    'votacao_candidato_munzona_2006_CE.txt',\n",
    "    'votacao_candidato_munzona_2006_DF.txt',\n",
    "    'votacao_candidato_munzona_2006_ES.txt',\n",
    "    'votacao_candidato_munzona_2006_GO.txt',\n",
    "    'votacao_candidato_munzona_2006_MA.txt',\n",
    "    'votacao_candidato_munzona_2006_MG.txt',\n",
    "    'votacao_candidato_munzona_2006_MS.txt',\n",
    "    'votacao_candidato_munzona_2006_MT.txt',\n",
    "    'votacao_candidato_munzona_2006_PA.txt',\n",
    "    'votacao_candidato_munzona_2006_PB.txt',\n",
    "    'votacao_candidato_munzona_2006_PE.txt',\n",
    "    'votacao_candidato_munzona_2006_PI.txt',\n",
    "    'votacao_candidato_munzona_2006_PR.txt',\n",
    "    'votacao_candidato_munzona_2006_RJ.txt',\n",
    "    'votacao_candidato_munzona_2006_RN.txt',\n",
    "    'votacao_candidato_munzona_2006_RO.txt',\n",
    "    'votacao_candidato_munzona_2006_RR.txt',\n",
    "    'votacao_candidato_munzona_2006_RS.txt',\n",
    "    'votacao_candidato_munzona_2006_SC.txt',\n",
    "    'votacao_candidato_munzona_2006_SE.txt',\n",
    "    'votacao_candidato_munzona_2006_SP.txt',\n",
    "    'votacao_candidato_munzona_2006_TO.txt',\n",
    "    'votacao_candidato_munzona_2006_ZZ.txt'\n",
    "]\n",
    "df_2006 = pd.read_csv('dados_nominal/votacao_candidato_munzona_2006_AC.txt',\n",
    "                      error_bad_lines=False,\n",
    "                      header=None,\n",
    "                      sep=';',\n",
    "                      encoding=\"ISO-8859-1\",\n",
    "                      names=colunasFederal2)\n",
    "for data in datasets:\n",
    "    df = pd.read_csv('dados_nominal/'+data,\n",
    "                     error_bad_lines=False,\n",
    "                     header=None,\n",
    "                     sep=';',\n",
    "                     encoding=\"ISO-8859-1\",\n",
    "                     names=colunasFederal2)\n",
    "    df_2006 = pd.concat([df_2006, df])"
   ]
  },
  {
   "cell_type": "markdown",
   "metadata": {
    "heading_collapsed": true
   },
   "source": [
    "## 2008 - Municipal"
   ]
  },
  {
   "cell_type": "code",
   "execution_count": 12,
   "metadata": {
    "ExecuteTime": {
     "end_time": "2021-02-10T15:37:50.648540Z",
     "start_time": "2021-02-10T15:37:44.247828Z"
    },
    "hidden": true
   },
   "outputs": [],
   "source": [
    "datasets = [\n",
    "    'votacao_candidato_munzona_2008_AL.txt',\n",
    "    'votacao_candidato_munzona_2008_AM.txt',\n",
    "    'votacao_candidato_munzona_2008_AP.txt',\n",
    "    'votacao_candidato_munzona_2008_BA.txt',\n",
    "    'votacao_candidato_munzona_2008_CE.txt',\n",
    "    'votacao_candidato_munzona_2008_ES.txt',\n",
    "    'votacao_candidato_munzona_2008_GO.txt',\n",
    "    'votacao_candidato_munzona_2008_MA.txt',\n",
    "    'votacao_candidato_munzona_2008_MG.txt',\n",
    "    'votacao_candidato_munzona_2008_MS.txt',\n",
    "    'votacao_candidato_munzona_2008_MT.txt',\n",
    "    'votacao_candidato_munzona_2008_PA.txt',\n",
    "    'votacao_candidato_munzona_2008_PB.txt',\n",
    "    'votacao_candidato_munzona_2008_PE.txt',\n",
    "    'votacao_candidato_munzona_2008_PI.txt',\n",
    "    'votacao_candidato_munzona_2008_PR.txt',\n",
    "    'votacao_candidato_munzona_2008_RJ.txt',\n",
    "    'votacao_candidato_munzona_2008_RN.txt',\n",
    "    'votacao_candidato_munzona_2008_RO.txt',\n",
    "    'votacao_candidato_munzona_2008_RR.txt',\n",
    "    'votacao_candidato_munzona_2008_RS.txt',\n",
    "    'votacao_candidato_munzona_2008_SC.txt',\n",
    "    'votacao_candidato_munzona_2008_SE.txt',\n",
    "    'votacao_candidato_munzona_2008_SP.txt',\n",
    "    'votacao_candidato_munzona_2008_TO.txt'\n",
    "]\n",
    "\n",
    "df_2008 = pd.read_csv('dados_nominal/votacao_candidato_munzona_2008_AC.txt',\n",
    "                      error_bad_lines=False,\n",
    "                      header=None,\n",
    "                      sep=';',\n",
    "                      encoding=\"ISO-8859-1\",\n",
    "                      names=colunasFederal2)\n",
    "for data in datasets:\n",
    "    df = pd.read_csv('dados_nominal/'+data,\n",
    "                     error_bad_lines=False,\n",
    "                     header=None,\n",
    "                     sep=';',\n",
    "                     encoding=\"ISO-8859-1\",\n",
    "                     names=colunasFederal2)\n",
    "    df_2008 = pd.concat([df_2008, df])"
   ]
  },
  {
   "cell_type": "markdown",
   "metadata": {
    "heading_collapsed": true
   },
   "source": [
    "## 2010 - Federal/Estadual"
   ]
  },
  {
   "cell_type": "code",
   "execution_count": 13,
   "metadata": {
    "ExecuteTime": {
     "end_time": "2021-02-10T15:38:12.401287Z",
     "start_time": "2021-02-10T15:37:50.650534Z"
    },
    "hidden": true
   },
   "outputs": [],
   "source": [
    "datasets = [\n",
    "    'votacao_candidato_munzona_2010_AL.txt',\n",
    "    'votacao_candidato_munzona_2010_AM.txt',\n",
    "    'votacao_candidato_munzona_2010_AP.txt',\n",
    "    'votacao_candidato_munzona_2010_BA.txt',\n",
    "    'votacao_candidato_munzona_2010_BR.txt',\n",
    "    'votacao_candidato_munzona_2010_CE.txt',\n",
    "    'votacao_candidato_munzona_2010_DF.txt',\n",
    "    'votacao_candidato_munzona_2010_ES.txt',\n",
    "    'votacao_candidato_munzona_2010_GO.txt',\n",
    "    'votacao_candidato_munzona_2010_MA.txt',\n",
    "    'votacao_candidato_munzona_2010_MG.txt',\n",
    "    'votacao_candidato_munzona_2010_MS.txt',\n",
    "    'votacao_candidato_munzona_2010_MT.txt',\n",
    "    'votacao_candidato_munzona_2010_PA.txt',\n",
    "    'votacao_candidato_munzona_2010_PB.txt',\n",
    "    'votacao_candidato_munzona_2010_PE.txt',\n",
    "    'votacao_candidato_munzona_2010_PI.txt',\n",
    "    'votacao_candidato_munzona_2010_PR.txt',\n",
    "    'votacao_candidato_munzona_2010_RJ.txt',\n",
    "    'votacao_candidato_munzona_2010_RN.txt',\n",
    "    'votacao_candidato_munzona_2010_RO.txt',\n",
    "    'votacao_candidato_munzona_2010_RR.txt',\n",
    "    'votacao_candidato_munzona_2010_RS.txt',\n",
    "    'votacao_candidato_munzona_2010_SC.txt',\n",
    "    'votacao_candidato_munzona_2010_SE.txt',\n",
    "    'votacao_candidato_munzona_2010_SP.txt',\n",
    "    'votacao_candidato_munzona_2010_TO.txt',\n",
    "    'votacao_candidato_munzona_2010_VT.txt',\n",
    "    'votacao_candidato_munzona_2010_ZZ.txt'\n",
    "]\n",
    "\n",
    "df_2010 = pd.read_csv('dados_nominal/votacao_candidato_munzona_2010_AC.txt',\n",
    "                      error_bad_lines=False,\n",
    "                      header=None,\n",
    "                      sep=';',\n",
    "                      encoding=\"ISO-8859-1\",\n",
    "                      names=colunasFederal2)\n",
    "for data in datasets:\n",
    "    df = pd.read_csv('dados_nominal/'+data,\n",
    "                     error_bad_lines=False,\n",
    "                     header=None,\n",
    "                     sep=';',\n",
    "                     encoding=\"ISO-8859-1\",\n",
    "                     names=colunasFederal2)\n",
    "    df_2010 = pd.concat([df_2010, df])"
   ]
  },
  {
   "cell_type": "markdown",
   "metadata": {
    "heading_collapsed": true
   },
   "source": [
    "## 2012 - Municipal"
   ]
  },
  {
   "cell_type": "code",
   "execution_count": 14,
   "metadata": {
    "ExecuteTime": {
     "end_time": "2021-02-10T15:38:20.726984Z",
     "start_time": "2021-02-10T15:38:12.402283Z"
    },
    "hidden": true,
    "scrolled": false
   },
   "outputs": [],
   "source": [
    "datasets = [\n",
    "    'votacao_candidato_munzona_2012_AL.txt',\n",
    "    'votacao_candidato_munzona_2012_AM.txt',\n",
    "    'votacao_candidato_munzona_2012_AP.txt',\n",
    "    'votacao_candidato_munzona_2012_BA.txt',\n",
    "    'votacao_candidato_munzona_2012_CE.txt',\n",
    "    'votacao_candidato_munzona_2012_ES.txt',\n",
    "    'votacao_candidato_munzona_2012_GO.txt',\n",
    "    'votacao_candidato_munzona_2012_MA.txt',\n",
    "    'votacao_candidato_munzona_2012_MG.txt',\n",
    "    'votacao_candidato_munzona_2012_MS.txt',\n",
    "    'votacao_candidato_munzona_2012_MT.txt',\n",
    "    'votacao_candidato_munzona_2012_PA.txt',\n",
    "    'votacao_candidato_munzona_2012_PB.txt',\n",
    "    'votacao_candidato_munzona_2012_PE.txt',\n",
    "    'votacao_candidato_munzona_2012_PI.txt',\n",
    "    'votacao_candidato_munzona_2012_PR.txt',\n",
    "    'votacao_candidato_munzona_2012_RJ.txt',\n",
    "    'votacao_candidato_munzona_2012_RN.txt',\n",
    "    'votacao_candidato_munzona_2012_RO.txt',\n",
    "    'votacao_candidato_munzona_2012_RR.txt',\n",
    "    'votacao_candidato_munzona_2012_RS.txt',\n",
    "    'votacao_candidato_munzona_2012_SC.txt',\n",
    "    'votacao_candidato_munzona_2012_SE.txt',\n",
    "    'votacao_candidato_munzona_2012_SP.txt',\n",
    "    'votacao_candidato_munzona_2012_TO.txt'\n",
    "]\n",
    "\n",
    "df_2012 = pd.read_csv('dados_nominal/votacao_candidato_munzona_2012_AC.txt',\n",
    "                      error_bad_lines=False,\n",
    "                      header=None,\n",
    "                      sep=';',\n",
    "                      encoding=\"ISO-8859-1\",\n",
    "                      names=colunasFederal2)\n",
    "for data in datasets:\n",
    "    df = pd.read_csv('dados_nominal/'+data,\n",
    "                     error_bad_lines=False,\n",
    "                     header=None,\n",
    "                     sep=';',\n",
    "                     encoding=\"ISO-8859-1\",\n",
    "                     names=colunasFederal2)\n",
    "    df_2012 = pd.concat([df_2012, df])"
   ]
  },
  {
   "cell_type": "markdown",
   "metadata": {
    "heading_collapsed": true
   },
   "source": [
    "## 2014 - Federal/Estadual"
   ]
  },
  {
   "cell_type": "code",
   "execution_count": 15,
   "metadata": {
    "ExecuteTime": {
     "end_time": "2021-02-10T15:38:56.459442Z",
     "start_time": "2021-02-10T15:38:20.727948Z"
    },
    "hidden": true
   },
   "outputs": [],
   "source": [
    "df_2014 = pd.read_csv('dados_nominal/votacao_candidato_munzona_2014_BRASIL.csv',\n",
    "                      error_bad_lines=False,\n",
    "                      sep=';',\n",
    "                      encoding=\"ISO-8859-1\")"
   ]
  },
  {
   "cell_type": "markdown",
   "metadata": {
    "heading_collapsed": true
   },
   "source": [
    "## 2016 - Municipal"
   ]
  },
  {
   "cell_type": "code",
   "execution_count": 16,
   "metadata": {
    "ExecuteTime": {
     "end_time": "2021-02-10T15:39:00.996739Z",
     "start_time": "2021-02-10T15:38:56.460437Z"
    },
    "hidden": true
   },
   "outputs": [],
   "source": [
    "df_2016 = pd.read_csv('dados_nominal/votacao_candidato_munzona_2016_BRASIL.csv',\n",
    "                      error_bad_lines=False,\n",
    "                      sep=';',\n",
    "                      encoding=\"ISO-8859-1\")"
   ]
  },
  {
   "cell_type": "markdown",
   "metadata": {
    "heading_collapsed": true
   },
   "source": [
    "## 2018 - Federal/Estadual"
   ]
  },
  {
   "cell_type": "code",
   "execution_count": 17,
   "metadata": {
    "ExecuteTime": {
     "end_time": "2021-02-10T15:39:43.692954Z",
     "start_time": "2021-02-10T15:39:00.997695Z"
    },
    "hidden": true
   },
   "outputs": [],
   "source": [
    "df_2018 = pd.read_csv('dados_nominal/votacao_candidato_munzona_2018_BRASIL.csv',\n",
    "                      error_bad_lines=False,\n",
    "                      sep=';',\n",
    "                      encoding=\"ISO-8859-1\")"
   ]
  },
  {
   "cell_type": "markdown",
   "metadata": {
    "heading_collapsed": true
   },
   "source": [
    "## 2020 - Municipal"
   ]
  },
  {
   "cell_type": "code",
   "execution_count": 18,
   "metadata": {
    "ExecuteTime": {
     "end_time": "2021-02-10T15:39:48.007548Z",
     "start_time": "2021-02-10T15:39:43.702676Z"
    },
    "hidden": true
   },
   "outputs": [],
   "source": [
    "df_2020 = pd.read_csv('dados_nominal/votacao_candidato_munzona_2020_BRASIL.csv',\n",
    "                      error_bad_lines=False,\n",
    "                      sep=';',\n",
    "                      encoding=\"ISO-8859-1\")"
   ]
  },
  {
   "cell_type": "markdown",
   "metadata": {},
   "source": [
    "# Tratamento dos dados"
   ]
  },
  {
   "cell_type": "code",
   "execution_count": 19,
   "metadata": {
    "ExecuteTime": {
     "end_time": "2021-02-10T15:39:48.023510Z",
     "start_time": "2021-02-10T15:39:48.008548Z"
    }
   },
   "outputs": [],
   "source": [
    "def transform(df):\n",
    "    features = ['NM_CANDIDATO', 'SG_PARTIDO', 'DS_CARGO', 'DS_SIT_TOT_TURNO', 'SG_UF']\n",
    "    df1 = df[features]\n",
    "    cond1 = (df1['DS_SIT_TOT_TURNO'] == 'ELEITO')\n",
    "    cond2 = (df1['DS_SIT_TOT_TURNO'] == 'ELEITO POR QP')\n",
    "    cond3 = (df1['DS_SIT_TOT_TURNO'] == 'ELEITO POR MÉDIA')\n",
    "    cond4 = (df1['DS_SIT_TOT_TURNO'] == 'MÉDIA')\n",
    "    df1 = df1[cond1 | cond2 | cond3 | cond4]\n",
    "    df1 = df1.groupby(['NM_CANDIDATO', 'DS_CARGO', 'SG_PARTIDO', 'SG_UF', 'DS_SIT_TOT_TURNO']).sum()\n",
    "    df1 = df1.reset_index(drop=False)\n",
    "    df1.drop('DS_SIT_TOT_TURNO', axis=1, inplace=True)\n",
    "    df1['Eleito'] = 1\n",
    "    df1['DS_CARGO'] = df1['DS_CARGO'].str.upper()\n",
    "    df1['ANO_ELEICAO'] = df['ANO_ELEICAO'].iloc[0]\n",
    "    df2 = df1[df1['DS_CARGO'] == 'PRESIDENTE'].groupby(['NM_CANDIDATO', 'DS_CARGO', 'SG_PARTIDO', 'ANO_ELEICAO']).last().reset_index()\n",
    "    df2['SG_UF'] = 'BR'\n",
    "    df1 = df1[df1['DS_CARGO'] != 'PRESIDENTE']\n",
    "    df1 = pd.concat([df1, df2])\n",
    "    return df1"
   ]
  },
  {
   "cell_type": "code",
   "execution_count": 20,
   "metadata": {
    "ExecuteTime": {
     "end_time": "2021-02-10T15:41:38.709642Z",
     "start_time": "2021-02-10T15:39:48.024465Z"
    },
    "scrolled": false
   },
   "outputs": [
    {
     "data": {
      "text/html": [
       "<div>\n",
       "<style scoped>\n",
       "    .dataframe tbody tr th:only-of-type {\n",
       "        vertical-align: middle;\n",
       "    }\n",
       "\n",
       "    .dataframe tbody tr th {\n",
       "        vertical-align: top;\n",
       "    }\n",
       "\n",
       "    .dataframe thead th {\n",
       "        text-align: right;\n",
       "    }\n",
       "</style>\n",
       "<table border=\"1\" class=\"dataframe\">\n",
       "  <thead>\n",
       "    <tr style=\"text-align: right;\">\n",
       "      <th></th>\n",
       "      <th>NM_CANDIDATO</th>\n",
       "      <th>DS_CARGO</th>\n",
       "      <th>SG_PARTIDO</th>\n",
       "      <th>SG_UF</th>\n",
       "      <th>Eleito</th>\n",
       "      <th>ANO_ELEICAO</th>\n",
       "    </tr>\n",
       "  </thead>\n",
       "  <tbody>\n",
       "    <tr>\n",
       "      <th>0</th>\n",
       "      <td>AAVA SANTIAGO AGUIAR</td>\n",
       "      <td>VEREADOR</td>\n",
       "      <td>PSDB</td>\n",
       "      <td>GO</td>\n",
       "      <td>1</td>\n",
       "      <td>2020.00</td>\n",
       "    </tr>\n",
       "    <tr>\n",
       "      <th>1</th>\n",
       "      <td>ABADIAS SOUZA DO NASCIMENTO DAMASCENO</td>\n",
       "      <td>VEREADOR</td>\n",
       "      <td>DEM</td>\n",
       "      <td>GO</td>\n",
       "      <td>1</td>\n",
       "      <td>2020.00</td>\n",
       "    </tr>\n",
       "    <tr>\n",
       "      <th>2</th>\n",
       "      <td>ABADIO RIBEIRO DA ROCHA</td>\n",
       "      <td>VEREADOR</td>\n",
       "      <td>PSD</td>\n",
       "      <td>MS</td>\n",
       "      <td>1</td>\n",
       "      <td>2020.00</td>\n",
       "    </tr>\n",
       "    <tr>\n",
       "      <th>3</th>\n",
       "      <td>ABDALA DA COSTA SOUSA FILHO</td>\n",
       "      <td>VEREADOR</td>\n",
       "      <td>PDT</td>\n",
       "      <td>MA</td>\n",
       "      <td>1</td>\n",
       "      <td>2020.00</td>\n",
       "    </tr>\n",
       "    <tr>\n",
       "      <th>4</th>\n",
       "      <td>ABDENOR TAHAN MALUF</td>\n",
       "      <td>VEREADOR</td>\n",
       "      <td>PL</td>\n",
       "      <td>SP</td>\n",
       "      <td>1</td>\n",
       "      <td>2020.00</td>\n",
       "    </tr>\n",
       "    <tr>\n",
       "      <th>...</th>\n",
       "      <td>...</td>\n",
       "      <td>...</td>\n",
       "      <td>...</td>\n",
       "      <td>...</td>\n",
       "      <td>...</td>\n",
       "      <td>...</td>\n",
       "    </tr>\n",
       "    <tr>\n",
       "      <th>383173</th>\n",
       "      <td>ÁLVARO MOREIRA ROMERO</td>\n",
       "      <td>DEPUTADO ESTADUAL</td>\n",
       "      <td>PDS</td>\n",
       "      <td>AC</td>\n",
       "      <td>1</td>\n",
       "      <td>1990.00</td>\n",
       "    </tr>\n",
       "    <tr>\n",
       "      <th>383174</th>\n",
       "      <td>ÁLVARO PINHEIRO DOS SANTOS</td>\n",
       "      <td>DEPUTADO ESTADUAL</td>\n",
       "      <td>PRN</td>\n",
       "      <td>BA</td>\n",
       "      <td>1</td>\n",
       "      <td>1990.00</td>\n",
       "    </tr>\n",
       "    <tr>\n",
       "      <th>383175</th>\n",
       "      <td>ÁTILA FREITAS LIRA</td>\n",
       "      <td>DEPUTADO FEDERAL</td>\n",
       "      <td>PFL</td>\n",
       "      <td>PI</td>\n",
       "      <td>1</td>\n",
       "      <td>1990.00</td>\n",
       "    </tr>\n",
       "    <tr>\n",
       "      <th>383176</th>\n",
       "      <td>ÂNGELO MARIO PEIXOTO DE MAGALHÃES</td>\n",
       "      <td>DEPUTADO FEDERAL</td>\n",
       "      <td>PFL</td>\n",
       "      <td>BA</td>\n",
       "      <td>1</td>\n",
       "      <td>1990.00</td>\n",
       "    </tr>\n",
       "    <tr>\n",
       "      <th>383177</th>\n",
       "      <td>FERNANDO AFFONSO COLLOR DE MELLO</td>\n",
       "      <td>PRESIDENTE</td>\n",
       "      <td>PRN</td>\n",
       "      <td>BR</td>\n",
       "      <td>1</td>\n",
       "      <td>1989.00</td>\n",
       "    </tr>\n",
       "  </tbody>\n",
       "</table>\n",
       "<p>383178 rows × 6 columns</p>\n",
       "</div>"
      ],
      "text/plain": [
       "                                 NM_CANDIDATO           DS_CARGO SG_PARTIDO  \\\n",
       "0                        AAVA SANTIAGO AGUIAR           VEREADOR       PSDB   \n",
       "1       ABADIAS SOUZA DO NASCIMENTO DAMASCENO           VEREADOR        DEM   \n",
       "2                     ABADIO RIBEIRO DA ROCHA           VEREADOR        PSD   \n",
       "3                 ABDALA DA COSTA SOUSA FILHO           VEREADOR        PDT   \n",
       "4                         ABDENOR TAHAN MALUF           VEREADOR         PL   \n",
       "...                                       ...                ...        ...   \n",
       "383173                  ÁLVARO MOREIRA ROMERO  DEPUTADO ESTADUAL        PDS   \n",
       "383174             ÁLVARO PINHEIRO DOS SANTOS  DEPUTADO ESTADUAL        PRN   \n",
       "383175                     ÁTILA FREITAS LIRA   DEPUTADO FEDERAL        PFL   \n",
       "383176      ÂNGELO MARIO PEIXOTO DE MAGALHÃES   DEPUTADO FEDERAL        PFL   \n",
       "383177       FERNANDO AFFONSO COLLOR DE MELLO         PRESIDENTE        PRN   \n",
       "\n",
       "       SG_UF  Eleito  ANO_ELEICAO  \n",
       "0         GO       1      2020.00  \n",
       "1         GO       1      2020.00  \n",
       "2         MS       1      2020.00  \n",
       "3         MA       1      2020.00  \n",
       "4         SP       1      2020.00  \n",
       "...      ...     ...          ...  \n",
       "383173    AC       1      1990.00  \n",
       "383174    BA       1      1990.00  \n",
       "383175    PI       1      1990.00  \n",
       "383176    BA       1      1990.00  \n",
       "383177    BR       1      1989.00  \n",
       "\n",
       "[383178 rows x 6 columns]"
      ]
     },
     "execution_count": 20,
     "metadata": {},
     "output_type": "execute_result"
    }
   ],
   "source": [
    "final = pd.concat([\n",
    "    transform(df_2020),\n",
    "    transform(df_2018),\n",
    "    transform(df_2016),\n",
    "    transform(df_2014),\n",
    "    transform(df_2012),\n",
    "    transform(df_2010),\n",
    "    transform(df_2008),\n",
    "    transform(df_2006),\n",
    "    transform(df_2004),\n",
    "    transform(df_2002),\n",
    "    transform(df_2000),\n",
    "    transform(df_1998),\n",
    "    transform(df_1996),\n",
    "    transform(df_1994),\n",
    "    transform(df_1990),\n",
    "    transform(df_1989)\n",
    "],\n",
    "                  ignore_index=True)\n",
    "final"
   ]
  },
  {
   "cell_type": "code",
   "execution_count": 21,
   "metadata": {
    "ExecuteTime": {
     "end_time": "2021-02-10T15:41:38.773471Z",
     "start_time": "2021-02-10T15:41:38.711620Z"
    }
   },
   "outputs": [
    {
     "data": {
      "text/plain": [
       "VEREADOR                                                                                337382\n",
       "PREFEITO                                                                                 33701\n",
       "DEPUTADO ESTADUAL                                                                         7647\n",
       "DEPUTADO FEDERAL                                                                          3760\n",
       "SENADOR                                                                                    304\n",
       "GOVERNADOR                                                                                 206\n",
       "DEPUTADO DISTRITAL                                                                         168\n",
       "PRESIDENTE                                                                                   8\n",
       "VOCÊ É A FAVOR | DA CRIAÇÃO DO MUNICÍPIO DE | EXTREMA DE RONDÔNIA?                           1\n",
       "VOCÊ É A FAVOR DA | ALTERAÇÃO DO NOME | DA CIDADE DE EMBU\" | PARA \"EMBU DAS ARTES\"?\"         1\n",
       "Name: DS_CARGO, dtype: int64"
      ]
     },
     "execution_count": 21,
     "metadata": {},
     "output_type": "execute_result"
    }
   ],
   "source": [
    "final['DS_CARGO'].value_counts()"
   ]
  },
  {
   "cell_type": "code",
   "execution_count": 22,
   "metadata": {
    "ExecuteTime": {
     "end_time": "2021-02-10T15:41:38.929235Z",
     "start_time": "2021-02-10T15:41:38.775436Z"
    }
   },
   "outputs": [],
   "source": [
    "final['DS_CARGO'].replace(\n",
    "    'VOCÊ É A FAVOR DA | ALTERAÇÃO DO NOME | DA CIDADE DE EMBU\" | PARA \"EMBU DAS ARTES\"?\"',\n",
    "    np.nan,\n",
    "    inplace=True)\n",
    "final['DS_CARGO'].replace(\n",
    "    'VOCÊ É A FAVOR | DA CRIAÇÃO DO MUNICÍPIO DE | EXTREMA DE RONDÔNIA?',\n",
    "    np.nan,\n",
    "    inplace=True)\n",
    "final.dropna(inplace=True)\n",
    "final.reset_index(drop=True, inplace=True)\n",
    "final['ANO_ELEICAO'] = final['ANO_ELEICAO'].astype(int)"
   ]
  },
  {
   "cell_type": "code",
   "execution_count": 23,
   "metadata": {
    "ExecuteTime": {
     "end_time": "2021-02-10T15:41:39.194785Z",
     "start_time": "2021-02-10T15:41:38.933260Z"
    }
   },
   "outputs": [],
   "source": [
    "def padronizar_dados(df):\n",
    "    # Partidos que mudaram de nome:\n",
    "    # https://pt.wikipedia.org/wiki/Predefini%C3%A7%C3%A3o:Partidos_pol%C3%ADticos_no_Brasil_que_mudaram_de_nome_ap%C3%B3s_a_crise_pol%C3%ADtica_de_2014\n",
    "    df['SG_PARTIDO'] = df['SG_PARTIDO'].str.upper()\n",
    "    df['SG_PARTIDO'] = df['SG_PARTIDO'].replace('PR', 'PL')\n",
    "    df['SG_PARTIDO'] = df['SG_PARTIDO'].replace('PTN', 'PODE')\n",
    "    df['SG_PARTIDO'] = df['SG_PARTIDO'].replace('PT DO B', 'AVANTE')\n",
    "    df['SG_PARTIDO'] = df['SG_PARTIDO'].replace('PEN', 'PATRIOTA')\n",
    "    df['SG_PARTIDO'] = df['SG_PARTIDO'].replace('PMDB', 'MDB')\n",
    "    df['SG_PARTIDO'] = df['SG_PARTIDO'].replace('PSDC', 'DC')\n",
    "    df['SG_PARTIDO'] = df['SG_PARTIDO'].replace('PRB', 'REPUBLICANOS')\n",
    "    df['SG_PARTIDO'] = df['SG_PARTIDO'].replace('PPS', 'CIDADANIA')\n",
    "    df['SG_PARTIDO'] = df['SG_PARTIDO'].replace('PFL', 'DEM')\n",
    "    \n",
    "#     df['DS_SIT_TOT_TURNO'] = df['DS_SIT_TOT_TURNO'].replace('RENÚNCIA/FALECIMENTO COM SUBSTITUIÇÃO', 'RENÚNCIA/FALECIMENTO/CASSAÇÃO ANTES DA ELEIÇÃO')\n",
    "#     df['DS_SIT_TOT_TURNO'] = df['DS_SIT_TOT_TURNO'].replace('2.O TURNO', '2º TURNO')\n",
    "#     df['DS_SIT_TOT_TURNO'] = df['DS_SIT_TOT_TURNO'].replace('2O. TURNO', '2º TURNO')\n",
    "#     df['DS_SIT_TOT_TURNO'] = df['DS_SIT_TOT_TURNO'].replace('NAO ELEITO', 'NÃO ELEITO')\n",
    "#     df['DS_SIT_TOT_TURNO'] = df['DS_SIT_TOT_TURNO'].replace('ELEITO POR QUOCIENTE PARTIDÁRIO', 'ELEITO POR QP')\n",
    "#     df['DS_SIT_TOT_TURNO'] = df['DS_SIT_TOT_TURNO'].replace('MEDIA', 'MÉDIA')\n",
    "\n",
    "padronizar_dados(final)"
   ]
  },
  {
   "cell_type": "code",
   "execution_count": 24,
   "metadata": {
    "ExecuteTime": {
     "end_time": "2021-02-10T15:41:39.210770Z",
     "start_time": "2021-02-10T15:41:39.195786Z"
    },
    "scrolled": true
   },
   "outputs": [
    {
     "data": {
      "text/html": [
       "<div>\n",
       "<style scoped>\n",
       "    .dataframe tbody tr th:only-of-type {\n",
       "        vertical-align: middle;\n",
       "    }\n",
       "\n",
       "    .dataframe tbody tr th {\n",
       "        vertical-align: top;\n",
       "    }\n",
       "\n",
       "    .dataframe thead th {\n",
       "        text-align: right;\n",
       "    }\n",
       "</style>\n",
       "<table border=\"1\" class=\"dataframe\">\n",
       "  <thead>\n",
       "    <tr style=\"text-align: right;\">\n",
       "      <th></th>\n",
       "      <th>NM_CANDIDATO</th>\n",
       "      <th>DS_CARGO</th>\n",
       "      <th>SG_PARTIDO</th>\n",
       "      <th>SG_UF</th>\n",
       "      <th>Eleito</th>\n",
       "      <th>ANO_ELEICAO</th>\n",
       "    </tr>\n",
       "  </thead>\n",
       "  <tbody>\n",
       "    <tr>\n",
       "      <th>0</th>\n",
       "      <td>AAVA SANTIAGO AGUIAR</td>\n",
       "      <td>VEREADOR</td>\n",
       "      <td>PSDB</td>\n",
       "      <td>GO</td>\n",
       "      <td>1</td>\n",
       "      <td>2020</td>\n",
       "    </tr>\n",
       "    <tr>\n",
       "      <th>1</th>\n",
       "      <td>ABADIAS SOUZA DO NASCIMENTO DAMASCENO</td>\n",
       "      <td>VEREADOR</td>\n",
       "      <td>DEM</td>\n",
       "      <td>GO</td>\n",
       "      <td>1</td>\n",
       "      <td>2020</td>\n",
       "    </tr>\n",
       "    <tr>\n",
       "      <th>2</th>\n",
       "      <td>ABADIO RIBEIRO DA ROCHA</td>\n",
       "      <td>VEREADOR</td>\n",
       "      <td>PSD</td>\n",
       "      <td>MS</td>\n",
       "      <td>1</td>\n",
       "      <td>2020</td>\n",
       "    </tr>\n",
       "    <tr>\n",
       "      <th>3</th>\n",
       "      <td>ABDALA DA COSTA SOUSA FILHO</td>\n",
       "      <td>VEREADOR</td>\n",
       "      <td>PDT</td>\n",
       "      <td>MA</td>\n",
       "      <td>1</td>\n",
       "      <td>2020</td>\n",
       "    </tr>\n",
       "    <tr>\n",
       "      <th>4</th>\n",
       "      <td>ABDENOR TAHAN MALUF</td>\n",
       "      <td>VEREADOR</td>\n",
       "      <td>PL</td>\n",
       "      <td>SP</td>\n",
       "      <td>1</td>\n",
       "      <td>2020</td>\n",
       "    </tr>\n",
       "    <tr>\n",
       "      <th>...</th>\n",
       "      <td>...</td>\n",
       "      <td>...</td>\n",
       "      <td>...</td>\n",
       "      <td>...</td>\n",
       "      <td>...</td>\n",
       "      <td>...</td>\n",
       "    </tr>\n",
       "    <tr>\n",
       "      <th>383171</th>\n",
       "      <td>ÁLVARO MOREIRA ROMERO</td>\n",
       "      <td>DEPUTADO ESTADUAL</td>\n",
       "      <td>PDS</td>\n",
       "      <td>AC</td>\n",
       "      <td>1</td>\n",
       "      <td>1990</td>\n",
       "    </tr>\n",
       "    <tr>\n",
       "      <th>383172</th>\n",
       "      <td>ÁLVARO PINHEIRO DOS SANTOS</td>\n",
       "      <td>DEPUTADO ESTADUAL</td>\n",
       "      <td>PRN</td>\n",
       "      <td>BA</td>\n",
       "      <td>1</td>\n",
       "      <td>1990</td>\n",
       "    </tr>\n",
       "    <tr>\n",
       "      <th>383173</th>\n",
       "      <td>ÁTILA FREITAS LIRA</td>\n",
       "      <td>DEPUTADO FEDERAL</td>\n",
       "      <td>DEM</td>\n",
       "      <td>PI</td>\n",
       "      <td>1</td>\n",
       "      <td>1990</td>\n",
       "    </tr>\n",
       "    <tr>\n",
       "      <th>383174</th>\n",
       "      <td>ÂNGELO MARIO PEIXOTO DE MAGALHÃES</td>\n",
       "      <td>DEPUTADO FEDERAL</td>\n",
       "      <td>DEM</td>\n",
       "      <td>BA</td>\n",
       "      <td>1</td>\n",
       "      <td>1990</td>\n",
       "    </tr>\n",
       "    <tr>\n",
       "      <th>383175</th>\n",
       "      <td>FERNANDO AFFONSO COLLOR DE MELLO</td>\n",
       "      <td>PRESIDENTE</td>\n",
       "      <td>PRN</td>\n",
       "      <td>BR</td>\n",
       "      <td>1</td>\n",
       "      <td>1989</td>\n",
       "    </tr>\n",
       "  </tbody>\n",
       "</table>\n",
       "<p>383176 rows × 6 columns</p>\n",
       "</div>"
      ],
      "text/plain": [
       "                                 NM_CANDIDATO           DS_CARGO SG_PARTIDO  \\\n",
       "0                        AAVA SANTIAGO AGUIAR           VEREADOR       PSDB   \n",
       "1       ABADIAS SOUZA DO NASCIMENTO DAMASCENO           VEREADOR        DEM   \n",
       "2                     ABADIO RIBEIRO DA ROCHA           VEREADOR        PSD   \n",
       "3                 ABDALA DA COSTA SOUSA FILHO           VEREADOR        PDT   \n",
       "4                         ABDENOR TAHAN MALUF           VEREADOR         PL   \n",
       "...                                       ...                ...        ...   \n",
       "383171                  ÁLVARO MOREIRA ROMERO  DEPUTADO ESTADUAL        PDS   \n",
       "383172             ÁLVARO PINHEIRO DOS SANTOS  DEPUTADO ESTADUAL        PRN   \n",
       "383173                     ÁTILA FREITAS LIRA   DEPUTADO FEDERAL        DEM   \n",
       "383174      ÂNGELO MARIO PEIXOTO DE MAGALHÃES   DEPUTADO FEDERAL        DEM   \n",
       "383175       FERNANDO AFFONSO COLLOR DE MELLO         PRESIDENTE        PRN   \n",
       "\n",
       "       SG_UF  Eleito  ANO_ELEICAO  \n",
       "0         GO       1         2020  \n",
       "1         GO       1         2020  \n",
       "2         MS       1         2020  \n",
       "3         MA       1         2020  \n",
       "4         SP       1         2020  \n",
       "...      ...     ...          ...  \n",
       "383171    AC       1         1990  \n",
       "383172    BA       1         1990  \n",
       "383173    PI       1         1990  \n",
       "383174    BA       1         1990  \n",
       "383175    BR       1         1989  \n",
       "\n",
       "[383176 rows x 6 columns]"
      ]
     },
     "execution_count": 24,
     "metadata": {},
     "output_type": "execute_result"
    }
   ],
   "source": [
    "final"
   ]
  },
  {
   "cell_type": "code",
   "execution_count": 25,
   "metadata": {
    "ExecuteTime": {
     "end_time": "2021-02-10T15:41:40.192924Z",
     "start_time": "2021-02-10T15:41:39.211744Z"
    }
   },
   "outputs": [],
   "source": [
    "final.to_csv('exports/eleitos.csv', sep=';', decimal=',')"
   ]
  }
 ],
 "metadata": {
  "kernelspec": {
   "display_name": "Python 3",
   "language": "python",
   "name": "python3"
  },
  "language_info": {
   "codemirror_mode": {
    "name": "ipython",
    "version": 3
   },
   "file_extension": ".py",
   "mimetype": "text/x-python",
   "name": "python",
   "nbconvert_exporter": "python",
   "pygments_lexer": "ipython3",
   "version": "3.8.3"
  },
  "varInspector": {
   "cols": {
    "lenName": 16,
    "lenType": 16,
    "lenVar": 40
   },
   "kernels_config": {
    "python": {
     "delete_cmd_postfix": "",
     "delete_cmd_prefix": "del ",
     "library": "var_list.py",
     "varRefreshCmd": "print(var_dic_list())"
    },
    "r": {
     "delete_cmd_postfix": ") ",
     "delete_cmd_prefix": "rm(",
     "library": "var_list.r",
     "varRefreshCmd": "cat(var_dic_list()) "
    }
   },
   "types_to_exclude": [
    "module",
    "function",
    "builtin_function_or_method",
    "instance",
    "_Feature"
   ],
   "window_display": false
  }
 },
 "nbformat": 4,
 "nbformat_minor": 4
}
